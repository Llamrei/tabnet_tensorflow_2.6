{
 "cells": [
  {
   "attachments": {},
   "cell_type": "markdown",
   "metadata": {},
   "source": [
    "# Imports"
   ]
  },
  {
   "cell_type": "code",
   "execution_count": 1,
   "metadata": {},
   "outputs": [],
   "source": [
    "import tensorflow as tf\n",
    "# from tensorflow.python.framework.ops import disable_eager_execution \n",
    "# disable_eager_execution()\n",
    "# from tensorflow.python.framework.ops import enable_eager_execution\n",
    "# enable_eager_execution()\n",
    "import matplotlib.pyplot as plt\n",
    "import numpy as np\n",
    "import pandas as pd\n",
    "from sklearn.model_selection import train_test_split\n",
    "from sklearn.preprocessing import StandardScaler"
   ]
  },
  {
   "cell_type": "code",
   "execution_count": 2,
   "metadata": {},
   "outputs": [],
   "source": [
    "# Import common tensorflow layers and activations\n",
    "from tensorflow.keras.layers import Dense, Dropout, BatchNormalization, Layer\n",
    "from tensorflow.keras.layers import Lambda, Multiply, Add, Rescaling\n",
    "from tensorflow.keras.activations import relu, sigmoid, softmax\n",
    "from tensorflow.keras import Model\n",
    "from tensorflow.keras import Sequential\n",
    "from tensorflow.keras import Input\n",
    "\n",
    "from tabnet import TabNet\n",
    "from tabnet import TabNetClassifier"
   ]
  },
  {
   "attachments": {},
   "cell_type": "markdown",
   "metadata": {},
   "source": [
    "# Data Defn"
   ]
  },
  {
   "cell_type": "code",
   "execution_count": 12,
   "metadata": {},
   "outputs": [
    {
     "name": "stderr",
     "output_type": "stream",
     "text": [
      "/tmp/ipykernel_8664/1702190313.py:37: FutureWarning: Support for multi-dimensional indexing (e.g. `obj[:, None]`) is deprecated and will be removed in a future version.  Convert to a numpy array before indexing instead.\n",
      "  train_dataset = tf.data.Dataset.from_tensor_slices((X_train, y_train[..., np.newaxis]))\n",
      "/tmp/ipykernel_8664/1702190313.py:39: FutureWarning: Support for multi-dimensional indexing (e.g. `obj[:, None]`) is deprecated and will be removed in a future version.  Convert to a numpy array before indexing instead.\n",
      "  val_dataset = tf.data.Dataset.from_tensor_slices((X_val, y_val[..., np.newaxis]))\n",
      "/tmp/ipykernel_8664/1702190313.py:41: FutureWarning: Support for multi-dimensional indexing (e.g. `obj[:, None]`) is deprecated and will be removed in a future version.  Convert to a numpy array before indexing instead.\n",
      "  test_dataset = tf.data.Dataset.from_tensor_slices((X_test, y_test[..., np.newaxis]))\n"
     ]
    }
   ],
   "source": [
    "BATCH_SIZE = 16384\n",
    "\n",
    "# Load telematics data\n",
    "telematics = pd.read_csv(\"./telematics_syn-032021.csv\")\n",
    "outputs = ['NB_Claim', 'AMT_Claim']\n",
    "response = 'Risky_driver'\n",
    "telematics[response] = ((telematics['NB_Claim'] > 0) & (telematics['AMT_Claim'] > 1000)).astype(float)\n",
    "telematics.drop([x for x in outputs if x != response], axis=1, inplace=True)\n",
    "\n",
    "# Split data into train and test\n",
    "data_train, data_test = train_test_split(telematics, test_size=0.3, random_state=42)\n",
    "data_val, data_test = train_test_split(data_test, test_size=0.33, random_state=42)\n",
    "\n",
    "# Mean target encode categorical variables\n",
    "aggregate_fn = np.mean\n",
    "for col in ['Marital', 'Insured.sex', 'Car.use', 'Region', 'Territory']:\n",
    "    encoding = data_train.groupby(col)[response].aggregate(aggregate_fn)\n",
    "    data_train[col] = data_train[col].map(encoding)\n",
    "    data_val[col] = data_val[col].map(encoding)\n",
    "    data_test[col] = data_test[col].map(encoding)\n",
    "\n",
    "# Split into X and y\n",
    "X_train = data_train.drop(response, axis=1, errors='ignore')\n",
    "y_train = data_train[response]\n",
    "X_val = data_val.drop(response, axis=1, errors='ignore')\n",
    "y_val = data_val[response]\n",
    "X_test = data_test.drop(response, axis=1, errors='ignore')\n",
    "y_test = data_test[response]\n",
    "\n",
    "# Scale input data - save scaler\n",
    "scaler = StandardScaler()\n",
    "X_train = scaler.fit_transform(X_train)\n",
    "X_val = scaler.transform(X_val)\n",
    "X_test = scaler.transform(X_test)\n",
    "\n",
    "# Make tensorflow datasets\n",
    "train_dataset = tf.data.Dataset.from_tensor_slices((X_train, y_train[..., np.newaxis]))\n",
    "train_dataset = train_dataset.shuffle(buffer_size=4048).batch(BATCH_SIZE, drop_remainder=True)\n",
    "val_dataset = tf.data.Dataset.from_tensor_slices((X_val, y_val[..., np.newaxis]))\n",
    "val_dataset = val_dataset.batch(BATCH_SIZE, drop_remainder=True)\n",
    "test_dataset = tf.data.Dataset.from_tensor_slices((X_test, y_test[..., np.newaxis]))\n",
    "test_dataset = test_dataset.batch(BATCH_SIZE)"
   ]
  },
  {
   "attachments": {},
   "cell_type": "markdown",
   "metadata": {},
   "source": [
    "# Model creation and training"
   ]
  },
  {
   "cell_type": "code",
   "execution_count": 50,
   "metadata": {},
   "outputs": [
    {
     "name": "stdout",
     "output_type": "stream",
     "text": [
      "[TabNet]: 64 features will be used for decision steps.\n"
     ]
    }
   ],
   "source": [
    "import tensorflow as tf\n",
    "import tabnet\n",
    "from importlib import reload\n",
    "reload(tabnet)\n",
    "\n",
    "from tabnet import TabNet\n",
    "\n",
    "online_implementation = TabNet(\n",
    "    feature_columns=None,\n",
    "    output_dim=64,\n",
    "    feature_dim=128,\n",
    "    num_features=X_train.shape[1],\n",
    "    num_decision_steps=5,\n",
    "    relaxation_factor=1.5,\n",
    "    sparsity_coefficient=0.0001,\n",
    "    virtual_batch_size=512,\n",
    "    norm_type=\"batch\",\n",
    "    batch_momentum=0.7,\n",
    ")\n",
    "\n",
    "online_implementation = Sequential([\n",
    "    online_implementation,\n",
    "    Dense(1, activation=\"sigmoid\")\n",
    "])\n",
    "\n",
    "\n",
    "online_implementation.compile(\n",
    "    optimizer=tf.keras.optimizers.Adam(\n",
    "        learning_rate=tf.keras.optimizers.schedules.ExponentialDecay(\n",
    "            initial_learning_rate=0.02,\n",
    "            decay_steps=500,\n",
    "            decay_rate=0.95\n",
    "        ),\n",
    "    ),\n",
    "    loss=tf.keras.losses.BinaryCrossentropy(from_logits=False),\n",
    "    metrics=[\n",
    "        tf.keras.metrics.AUC(from_logits=False, name=\"auc\"),\n",
    "        tf.keras.metrics.BinaryAccuracy(name=\"binary_accuracy\"),\n",
    "        tf.keras.metrics.Precision(name=\"precision\", thresholds=0.5),\n",
    "        tf.keras.metrics.Recall(name=\"recall\", thresholds=0.5)\n",
    "    ]\n",
    ")\n"
   ]
  },
  {
   "cell_type": "code",
   "execution_count": 51,
   "metadata": {},
   "outputs": [
    {
     "data": {
      "text/plain": [
       "<tf.Tensor: shape=(16384, 1), dtype=float32, numpy=\n",
       "array([[0.50022095],\n",
       "       [0.4995658 ],\n",
       "       [0.50116795],\n",
       "       ...,\n",
       "       [0.50100034],\n",
       "       [0.4984247 ],\n",
       "       [0.4950452 ]], dtype=float32)>"
      ]
     },
     "execution_count": 51,
     "metadata": {},
     "output_type": "execute_result"
    }
   ],
   "source": [
    "sample = next(iter(train_dataset))\n",
    "x = np.arange(len(sample[0].numpy()))\n",
    "online_implementation(sample[0])"
   ]
  },
  {
   "cell_type": "code",
   "execution_count": 27,
   "metadata": {},
   "outputs": [],
   "source": [
    "# local_implementation = TabNet(dim_features=X_train.shape[1], dim_attention=16, dim_output=1, output_activation=None)\n",
    "\n",
    "# local_implementation.compile( \n",
    "#     optimizer=tf.keras.optimizers.Adam(learning_rate=0.01), \n",
    "#     loss=tf.keras.losses.BinaryCrossentropy(from_logits=True),\n",
    "#     metrics=[\n",
    "#         tf.keras.metrics.AUC(from_logits=True, name=\"auc\"),\n",
    "#         # # tf.keras.metrics.BinaryAccuracy(name=\"binary_accuracy\"),\n",
    "#         # tf.keras.metrics.Precision(name=\"precision\", thresholds=0),\n",
    "#         # tf.keras.metrics.Recall(name=\"recall\", thresholds=0)\n",
    "#         ]\n",
    "# )\n",
    "# local_implementation.build(X_train[:1].shape)"
   ]
  },
  {
   "cell_type": "code",
   "execution_count": 28,
   "metadata": {},
   "outputs": [
    {
     "name": "stdout",
     "output_type": "stream",
     "text": [
      "Model: \"sequential_1\"\n",
      "_________________________________________________________________\n",
      "Layer (type)                 Output Shape              Param #   \n",
      "=================================================================\n",
      "tab_net_6 (TabNet)           (16384, 64)               399136    \n",
      "_________________________________________________________________\n",
      "dense_1 (Dense)              (16384, 1)                65        \n",
      "=================================================================\n",
      "Total params: 399,201\n",
      "Trainable params: 392,657\n",
      "Non-trainable params: 6,544\n",
      "_________________________________________________________________\n"
     ]
    }
   ],
   "source": [
    "online_implementation.summary()"
   ]
  },
  {
   "cell_type": "code",
   "execution_count": 52,
   "metadata": {},
   "outputs": [
    {
     "name": "stdout",
     "output_type": "stream",
     "text": [
      "Epoch 1/1000\n",
      "4/4 [==============================] - 15s 2s/step - loss: 0.2661 - auc: 0.5382 - binary_accuracy: 0.9064 - precision: 0.0284 - recall: 0.0738 - val_loss: 0.1603 - val_auc: 0.5840 - val_binary_accuracy: 0.9731 - val_precision: 0.0000e+00 - val_recall: 0.0000e+00\n",
      "Epoch 2/1000\n",
      "4/4 [==============================] - 8s 2s/step - loss: 0.1314 - auc: 0.6816 - binary_accuracy: 0.9727 - precision: 0.0000e+00 - recall: 0.0000e+00 - val_loss: 0.1344 - val_auc: 0.7197 - val_binary_accuracy: 0.9730 - val_precision: 0.2500 - val_recall: 0.0023\n",
      "Epoch 3/1000\n",
      "4/4 [==============================] - 7s 2s/step - loss: 0.1230 - auc: 0.7124 - binary_accuracy: 0.9725 - precision: 0.1429 - recall: 0.0011 - val_loss: 0.1299 - val_auc: 0.7392 - val_binary_accuracy: 0.9730 - val_precision: 0.3333 - val_recall: 0.0023\n",
      "Epoch 4/1000\n",
      "4/4 [==============================] - 7s 2s/step - loss: 0.1210 - auc: 0.7287 - binary_accuracy: 0.9728 - precision: 0.3333 - recall: 5.6085e-04 - val_loss: 0.1262 - val_auc: 0.7492 - val_binary_accuracy: 0.9731 - val_precision: 0.5000 - val_recall: 0.0023\n",
      "Epoch 5/1000\n",
      "4/4 [==============================] - 7s 2s/step - loss: 0.1167 - auc: 0.7377 - binary_accuracy: 0.9728 - precision: 0.0000e+00 - recall: 0.0000e+00 - val_loss: 0.1237 - val_auc: 0.7566 - val_binary_accuracy: 0.9728 - val_precision: 0.1667 - val_recall: 0.0023\n",
      "Epoch 6/1000\n",
      "4/4 [==============================] - 7s 2s/step - loss: 0.1159 - auc: 0.7448 - binary_accuracy: 0.9725 - precision: 0.1176 - recall: 0.0011 - val_loss: 0.1216 - val_auc: 0.7612 - val_binary_accuracy: 0.9731 - val_precision: 0.0000e+00 - val_recall: 0.0000e+00\n",
      "Epoch 7/1000\n",
      "4/4 [==============================] - 7s 2s/step - loss: 0.1160 - auc: 0.7459 - binary_accuracy: 0.9727 - precision: 0.0000e+00 - recall: 0.0000e+00 - val_loss: 0.1200 - val_auc: 0.7615 - val_binary_accuracy: 0.9731 - val_precision: 0.0000e+00 - val_recall: 0.0000e+00\n",
      "Epoch 8/1000\n",
      "4/4 [==============================] - 7s 2s/step - loss: 0.1124 - auc: 0.7671 - binary_accuracy: 0.9728 - precision: 0.2500 - recall: 0.0011 - val_loss: 0.1181 - val_auc: 0.7659 - val_binary_accuracy: 0.9731 - val_precision: 0.6667 - val_recall: 0.0045\n",
      "Epoch 9/1000\n",
      "4/4 [==============================] - 7s 2s/step - loss: 0.1121 - auc: 0.7712 - binary_accuracy: 0.9727 - precision: 0.1667 - recall: 0.0011 - val_loss: 0.1171 - val_auc: 0.7675 - val_binary_accuracy: 0.9731 - val_precision: 0.0000e+00 - val_recall: 0.0000e+00\n",
      "Epoch 10/1000\n",
      "4/4 [==============================] - 7s 2s/step - loss: 0.1113 - auc: 0.7690 - binary_accuracy: 0.9730 - precision: 0.0000e+00 - recall: 0.0000e+00 - val_loss: 0.1164 - val_auc: 0.7648 - val_binary_accuracy: 0.9731 - val_precision: 0.0000e+00 - val_recall: 0.0000e+00\n",
      "Epoch 11/1000\n",
      "4/4 [==============================] - 7s 2s/step - loss: 0.1112 - auc: 0.7714 - binary_accuracy: 0.9729 - precision: 0.4000 - recall: 0.0011 - val_loss: 0.1164 - val_auc: 0.7716 - val_binary_accuracy: 0.9730 - val_precision: 0.0000e+00 - val_recall: 0.0000e+00\n",
      "Epoch 12/1000\n",
      "4/4 [==============================] - 7s 2s/step - loss: 0.1108 - auc: 0.7796 - binary_accuracy: 0.9727 - precision: 0.1111 - recall: 5.6211e-04 - val_loss: 0.1163 - val_auc: 0.7728 - val_binary_accuracy: 0.9731 - val_precision: 0.5000 - val_recall: 0.0045\n",
      "Epoch 13/1000\n",
      "4/4 [==============================] - 7s 2s/step - loss: 0.1101 - auc: 0.7829 - binary_accuracy: 0.9728 - precision: 0.1429 - recall: 5.6243e-04 - val_loss: 0.1159 - val_auc: 0.7738 - val_binary_accuracy: 0.9730 - val_precision: 0.3333 - val_recall: 0.0023\n",
      "Epoch 14/1000\n",
      "4/4 [==============================] - 8s 2s/step - loss: 0.1095 - auc: 0.7885 - binary_accuracy: 0.9727 - precision: 0.2857 - recall: 0.0011 - val_loss: 0.1164 - val_auc: 0.7737 - val_binary_accuracy: 0.9731 - val_precision: 0.5000 - val_recall: 0.0023\n",
      "Epoch 15/1000\n",
      "4/4 [==============================] - 7s 2s/step - loss: 0.1096 - auc: 0.7891 - binary_accuracy: 0.9727 - precision: 0.0000e+00 - recall: 0.0000e+00 - val_loss: 0.1157 - val_auc: 0.7678 - val_binary_accuracy: 0.9731 - val_precision: 0.0000e+00 - val_recall: 0.0000e+00\n",
      "Epoch 16/1000\n",
      "4/4 [==============================] - 7s 2s/step - loss: 0.1095 - auc: 0.7855 - binary_accuracy: 0.9728 - precision: 0.0000e+00 - recall: 0.0000e+00 - val_loss: 0.1159 - val_auc: 0.7663 - val_binary_accuracy: 0.9731 - val_precision: 0.0000e+00 - val_recall: 0.0000e+00\n",
      "Epoch 17/1000\n",
      "4/4 [==============================] - 7s 2s/step - loss: 0.1087 - auc: 0.7924 - binary_accuracy: 0.9728 - precision: 0.3333 - recall: 5.6180e-04 - val_loss: 0.1155 - val_auc: 0.7658 - val_binary_accuracy: 0.9731 - val_precision: 0.0000e+00 - val_recall: 0.0000e+00\n",
      "Epoch 18/1000\n",
      "4/4 [==============================] - 7s 2s/step - loss: 0.1070 - auc: 0.8009 - binary_accuracy: 0.9729 - precision: 0.5000 - recall: 5.6402e-04 - val_loss: 0.1151 - val_auc: 0.7674 - val_binary_accuracy: 0.9731 - val_precision: 0.0000e+00 - val_recall: 0.0000e+00\n",
      "Epoch 19/1000\n",
      "4/4 [==============================] - 7s 2s/step - loss: 0.1078 - auc: 0.7984 - binary_accuracy: 0.9728 - precision: 0.0000e+00 - recall: 0.0000e+00 - val_loss: 0.1141 - val_auc: 0.7701 - val_binary_accuracy: 0.9731 - val_precision: 0.0000e+00 - val_recall: 0.0000e+00\n",
      "Epoch 20/1000\n",
      "4/4 [==============================] - 7s 2s/step - loss: 0.1067 - auc: 0.8050 - binary_accuracy: 0.9729 - precision: 0.4444 - recall: 0.0023 - val_loss: 0.1141 - val_auc: 0.7696 - val_binary_accuracy: 0.9731 - val_precision: 0.0000e+00 - val_recall: 0.0000e+00\n",
      "Epoch 21/1000\n",
      "4/4 [==============================] - 7s 2s/step - loss: 0.1083 - auc: 0.8003 - binary_accuracy: 0.9725 - precision: 0.0000e+00 - recall: 0.0000e+00 - val_loss: 0.1146 - val_auc: 0.7672 - val_binary_accuracy: 0.9731 - val_precision: 0.0000e+00 - val_recall: 0.0000e+00\n",
      "Epoch 22/1000\n",
      "4/4 [==============================] - 7s 2s/step - loss: 0.1085 - auc: 0.8040 - binary_accuracy: 0.9724 - precision: 0.0000e+00 - recall: 0.0000e+00 - val_loss: 0.1147 - val_auc: 0.7657 - val_binary_accuracy: 0.9731 - val_precision: 0.0000e+00 - val_recall: 0.0000e+00\n",
      "Epoch 23/1000\n",
      "4/4 [==============================] - 7s 2s/step - loss: 0.1079 - auc: 0.7959 - binary_accuracy: 0.9729 - precision: 0.5000 - recall: 5.6338e-04 - val_loss: 0.1148 - val_auc: 0.7661 - val_binary_accuracy: 0.9731 - val_precision: 0.0000e+00 - val_recall: 0.0000e+00\n",
      "Epoch 24/1000\n",
      "4/4 [==============================] - 7s 2s/step - loss: 0.1064 - auc: 0.8063 - binary_accuracy: 0.9728 - precision: 0.5000 - recall: 0.0011 - val_loss: 0.1152 - val_auc: 0.7632 - val_binary_accuracy: 0.9731 - val_precision: 0.0000e+00 - val_recall: 0.0000e+00\n",
      "Epoch 25/1000\n",
      "4/4 [==============================] - 7s 2s/step - loss: 0.1076 - auc: 0.8017 - binary_accuracy: 0.9726 - precision: 0.1250 - recall: 5.5866e-04 - val_loss: 0.1145 - val_auc: 0.7685 - val_binary_accuracy: 0.9731 - val_precision: 0.0000e+00 - val_recall: 0.0000e+00\n",
      "Epoch 26/1000\n",
      "4/4 [==============================] - 7s 2s/step - loss: 0.1064 - auc: 0.8043 - binary_accuracy: 0.9730 - precision: 0.5000 - recall: 0.0011 - val_loss: 0.1141 - val_auc: 0.7711 - val_binary_accuracy: 0.9731 - val_precision: 0.0000e+00 - val_recall: 0.0000e+00\n",
      "Epoch 27/1000\n",
      "4/4 [==============================] - 6s 2s/step - loss: 0.1077 - auc: 0.8005 - binary_accuracy: 0.9727 - precision: 0.0000e+00 - recall: 0.0000e+00 - val_loss: 0.1143 - val_auc: 0.7710 - val_binary_accuracy: 0.9731 - val_precision: 0.0000e+00 - val_recall: 0.0000e+00\n",
      "Epoch 28/1000\n",
      "4/4 [==============================] - 7s 2s/step - loss: 0.1064 - auc: 0.8054 - binary_accuracy: 0.9729 - precision: 0.2500 - recall: 5.6338e-04 - val_loss: 0.1147 - val_auc: 0.7671 - val_binary_accuracy: 0.9731 - val_precision: 0.0000e+00 - val_recall: 0.0000e+00\n",
      "Epoch 29/1000\n",
      "4/4 [==============================] - 7s 2s/step - loss: 0.1065 - auc: 0.8062 - binary_accuracy: 0.9727 - precision: 0.2308 - recall: 0.0017 - val_loss: 0.1154 - val_auc: 0.7682 - val_binary_accuracy: 0.9731 - val_precision: 0.0000e+00 - val_recall: 0.0000e+00\n",
      "Epoch 30/1000\n",
      "4/4 [==============================] - 7s 2s/step - loss: 0.1052 - auc: 0.8098 - binary_accuracy: 0.9731 - precision: 0.6667 - recall: 0.0023 - val_loss: 0.1140 - val_auc: 0.7720 - val_binary_accuracy: 0.9731 - val_precision: 0.0000e+00 - val_recall: 0.0000e+00\n",
      "Epoch 31/1000\n",
      "4/4 [==============================] - 7s 2s/step - loss: 0.1058 - auc: 0.8109 - binary_accuracy: 0.9728 - precision: 0.4444 - recall: 0.0022 - val_loss: 0.1140 - val_auc: 0.7681 - val_binary_accuracy: 0.9731 - val_precision: 0.0000e+00 - val_recall: 0.0000e+00\n"
     ]
    }
   ],
   "source": [
    "early_stopping = tf.keras.callbacks.EarlyStopping(patience=30, restore_best_weights=True, monitor=\"val_auc\")\n",
    "# lr_on_plateau = tf.keras.callbacks.ReduceLROnPlateau(patience=3, factor=0.5, min_lr=1e-5)\n",
    "history = online_implementation.fit(train_dataset, epochs=1000, validation_data=val_dataset, callbacks=[early_stopping])"
   ]
  },
  {
   "cell_type": "code",
   "execution_count": 53,
   "metadata": {},
   "outputs": [
    {
     "data": {
      "text/plain": [
       "<keras.metrics.Recall at 0x7f866e719730>"
      ]
     },
     "execution_count": 53,
     "metadata": {},
     "output_type": "execute_result"
    },
    {
     "data": {
      "image/png": "[encoded data removed]",
      "text/plain": [
       "<Figure size 640x480 with 1 Axes>"
      ]
     },
     "metadata": {},
     "output_type": "display_data"
    }
   ],
   "source": [
    "sample = next(iter(train_dataset))\n",
    "x = np.arange(len(sample[0].numpy()))\n",
    "y_pred = online_implementation(sample[0]).numpy().flatten()\n",
    "y_true = sample[1].numpy().flatten()\n",
    "sample_plot = 200\n",
    "plt.scatter(x[:sample_plot], y_true[:sample_plot], label=\"True\", alpha=0.5)\n",
    "plt.scatter(x[:sample_plot], y_pred[:sample_plot], label=\"Predictions\", marker=\"x\")\n",
    "plt.legend()\n",
    "tf.keras.metrics.Recall(name=\"recall\", thresholds=0)"
   ]
  },
  {
   "cell_type": "code",
   "execution_count": 54,
   "metadata": {},
   "outputs": [
    {
     "ename": "NameError",
     "evalue": "name 'local_implementation' is not defined",
     "output_type": "error",
     "traceback": [
      "\u001b[0;31m---------------------------------------------------------------------------\u001b[0m",
      "\u001b[0;31mNameError\u001b[0m                                 Traceback (most recent call last)",
      "Cell \u001b[0;32mIn[54], line 4\u001b[0m\n\u001b[1;32m      1\u001b[0m \u001b[39m# Plot history loss and RMSE for training and validation set; train solid line, validation dashed line\u001b[39;00m\n\u001b[1;32m      2\u001b[0m fig, (top_ax, bottom_ax) \u001b[39m=\u001b[39m plt\u001b[39m.\u001b[39msubplots(\u001b[39m2\u001b[39m, \u001b[39m1\u001b[39m, figsize\u001b[39m=\u001b[39m(\u001b[39m10\u001b[39m, \u001b[39m10\u001b[39m), sharex\u001b[39m=\u001b[39m\u001b[39mTrue\u001b[39;00m)\n\u001b[0;32m----> 4\u001b[0m hist \u001b[39m=\u001b[39m local_implementation\u001b[39m.\u001b[39mhistory\u001b[39m.\u001b[39mhistory\n\u001b[1;32m      6\u001b[0m top_ax\u001b[39m.\u001b[39mplot(hist[\u001b[39m'\u001b[39m\u001b[39mloss\u001b[39m\u001b[39m'\u001b[39m], label\u001b[39m=\u001b[39m\u001b[39m'\u001b[39m\u001b[39mtrain_loss\u001b[39m\u001b[39m'\u001b[39m, c\u001b[39m=\u001b[39m\u001b[39m'\u001b[39m\u001b[39mb\u001b[39m\u001b[39m'\u001b[39m)\n\u001b[1;32m      7\u001b[0m top_ax\u001b[39m.\u001b[39mplot(hist[\u001b[39m'\u001b[39m\u001b[39mval_loss\u001b[39m\u001b[39m'\u001b[39m], label\u001b[39m=\u001b[39m\u001b[39m'\u001b[39m\u001b[39mval_loss\u001b[39m\u001b[39m'\u001b[39m, linestyle\u001b[39m=\u001b[39m\u001b[39m'\u001b[39m\u001b[39m--\u001b[39m\u001b[39m'\u001b[39m, c\u001b[39m=\u001b[39m\u001b[39m'\u001b[39m\u001b[39mb\u001b[39m\u001b[39m'\u001b[39m)\n",
      "\u001b[0;31mNameError\u001b[0m: name 'local_implementation' is not defined"
     ]
    },
    {
     "data": {
      "image/png": "[encoded data removed]",
      "text/plain": [
       "<Figure size 1000x1000 with 2 Axes>"
      ]
     },
     "metadata": {},
     "output_type": "display_data"
    }
   ],
   "source": [
    "# Plot history loss and RMSE for training and validation set; train solid line, validation dashed line\n",
    "fig, (top_ax, bottom_ax) = plt.subplots(2, 1, figsize=(10, 10), sharex=True)\n",
    "\n",
    "hist = local_implementation.history.history\n",
    "\n",
    "top_ax.plot(hist['loss'], label='train_loss', c='b')\n",
    "top_ax.plot(hist['val_loss'], label='val_loss', linestyle='--', c='b')\n",
    "second_ax = top_ax.twinx()\n",
    "# Plot precision and recall on second axis in orange and red respectively\n",
    "second_ax.plot(hist['precision'], label='train_precision', c='orange')\n",
    "second_ax.plot(hist['val_precision'], label='val_precision', linestyle='--', c='orange')\n",
    "second_ax.plot(hist['recall'], label='train_recall', c='r')\n",
    "second_ax.plot(hist['val_recall'], label='val_recall', linestyle='--', c='r')\n",
    "top_ax.set_ylabel('loss')\n",
    "second_ax.set_ylabel('Precision/Recall')\n",
    "# Merge top ax legend entries\n",
    "handles, labels = top_ax.get_legend_handles_labels()\n",
    "handles2, labels2 = second_ax.get_legend_handles_labels()\n",
    "top_ax.legend(handles + handles2, labels + labels2)\n",
    "\n",
    "\n",
    "bottom_ax.plot(hist['lr'], label='lr', c='g')\n",
    "bottom_ax.set_xlabel('Epoch')\n",
    "bottom_ax.set_ylabel('Learning rate')\n",
    "\n",
    "# New plot with auc and accuracy\n",
    "fig, ax = plt.subplots()\n",
    "ax.plot(hist['auc'], label='train_auc', c='orange')\n",
    "ax.plot(hist['val_auc'], label='val_auc', linestyle='--', c='orange')\n",
    "twinax = ax.twinx()\n",
    "twinax.plot(hist['binary_accuracy'], label='train_accuracy', c='r')\n",
    "twinax.plot(hist['val_binary_accuracy'], label='val_accuracy', linestyle='--', c='r')\n",
    "ax.set_xlabel('Epoch')\n",
    "ax.set_ylabel('AUC')\n",
    "twinax.set_ylabel('Accuracy')\n",
    "# Merge legend entries\n",
    "handles, labels = ax.get_legend_handles_labels()\n",
    "twinhandles, twinlabels = twinax.get_legend_handles_labels()\n",
    "ax.legend(handles + twinhandles, labels + twinlabels)\n",
    "\n",
    "\n"
   ]
  },
  {
   "cell_type": "code",
   "execution_count": 56,
   "metadata": {},
   "outputs": [
    {
     "ename": "InvalidArgumentError",
     "evalue": " Input to reshape is a tensor with 2534400 values, but the requested shape requires a multiple of 131072\n\t [[node sequential_2/tab_net_7/transform_block_112/transformblock_bn_f1/Reshape (defined at home/alexander/projects/deep_learning_vs_gbdt/venv/lib/python3.9/site-packages/tabnet/tabnet.py:34) ]] [Op:__inference_test_function_91403]\n\nErrors may have originated from an input operation.\nInput Source operations connected to node sequential_2/tab_net_7/transform_block_112/transformblock_bn_f1/Reshape:\n sequential_2/tab_net_7/transform_block_112/transformblock_dense_f1/MatMul (defined at home/alexander/projects/deep_learning_vs_gbdt/venv/lib/python3.9/site-packages/tabnet/tabnet.py:33)\n\nFunction call stack:\ntest_function\n",
     "output_type": "error",
     "traceback": [
      "\u001b[0;31m---------------------------------------------------------------------------\u001b[0m",
      "\u001b[0;31mInvalidArgumentError\u001b[0m                      Traceback (most recent call last)",
      "Cell \u001b[0;32mIn[56], line 2\u001b[0m\n\u001b[1;32m      1\u001b[0m \u001b[39m# Evaluate model on test set\u001b[39;00m\n\u001b[0;32m----> 2\u001b[0m online_implementation\u001b[39m.\u001b[39;49mevaluate(test_dataset)\n",
      "File \u001b[0;32m~/projects/deep_learning_vs_gbdt/venv/lib/python3.9/site-packages/keras/engine/training.py:1501\u001b[0m, in \u001b[0;36mModel.evaluate\u001b[0;34m(self, x, y, batch_size, verbose, sample_weight, steps, callbacks, max_queue_size, workers, use_multiprocessing, return_dict, **kwargs)\u001b[0m\n\u001b[1;32m   1499\u001b[0m \u001b[39mwith\u001b[39;00m tf\u001b[39m.\u001b[39mprofiler\u001b[39m.\u001b[39mexperimental\u001b[39m.\u001b[39mTrace(\u001b[39m'\u001b[39m\u001b[39mtest\u001b[39m\u001b[39m'\u001b[39m, step_num\u001b[39m=\u001b[39mstep, _r\u001b[39m=\u001b[39m\u001b[39m1\u001b[39m):\n\u001b[1;32m   1500\u001b[0m   callbacks\u001b[39m.\u001b[39mon_test_batch_begin(step)\n\u001b[0;32m-> 1501\u001b[0m   tmp_logs \u001b[39m=\u001b[39m \u001b[39mself\u001b[39;49m\u001b[39m.\u001b[39;49mtest_function(iterator)\n\u001b[1;32m   1502\u001b[0m   \u001b[39mif\u001b[39;00m data_handler\u001b[39m.\u001b[39mshould_sync:\n\u001b[1;32m   1503\u001b[0m     context\u001b[39m.\u001b[39masync_wait()\n",
      "File \u001b[0;32m~/projects/deep_learning_vs_gbdt/venv/lib/python3.9/site-packages/tensorflow/python/eager/def_function.py:885\u001b[0m, in \u001b[0;36mFunction.__call__\u001b[0;34m(self, *args, **kwds)\u001b[0m\n\u001b[1;32m    882\u001b[0m compiler \u001b[39m=\u001b[39m \u001b[39m\"\u001b[39m\u001b[39mxla\u001b[39m\u001b[39m\"\u001b[39m \u001b[39mif\u001b[39;00m \u001b[39mself\u001b[39m\u001b[39m.\u001b[39m_jit_compile \u001b[39melse\u001b[39;00m \u001b[39m\"\u001b[39m\u001b[39mnonXla\u001b[39m\u001b[39m\"\u001b[39m\n\u001b[1;32m    884\u001b[0m \u001b[39mwith\u001b[39;00m OptionalXlaContext(\u001b[39mself\u001b[39m\u001b[39m.\u001b[39m_jit_compile):\n\u001b[0;32m--> 885\u001b[0m   result \u001b[39m=\u001b[39m \u001b[39mself\u001b[39;49m\u001b[39m.\u001b[39;49m_call(\u001b[39m*\u001b[39;49margs, \u001b[39m*\u001b[39;49m\u001b[39m*\u001b[39;49mkwds)\n\u001b[1;32m    887\u001b[0m new_tracing_count \u001b[39m=\u001b[39m \u001b[39mself\u001b[39m\u001b[39m.\u001b[39mexperimental_get_tracing_count()\n\u001b[1;32m    888\u001b[0m without_tracing \u001b[39m=\u001b[39m (tracing_count \u001b[39m==\u001b[39m new_tracing_count)\n",
      "File \u001b[0;32m~/projects/deep_learning_vs_gbdt/venv/lib/python3.9/site-packages/tensorflow/python/eager/def_function.py:924\u001b[0m, in \u001b[0;36mFunction._call\u001b[0;34m(self, *args, **kwds)\u001b[0m\n\u001b[1;32m    921\u001b[0m \u001b[39mself\u001b[39m\u001b[39m.\u001b[39m_lock\u001b[39m.\u001b[39mrelease()\n\u001b[1;32m    922\u001b[0m \u001b[39m# In this case we have not created variables on the first call. So we can\u001b[39;00m\n\u001b[1;32m    923\u001b[0m \u001b[39m# run the first trace but we should fail if variables are created.\u001b[39;00m\n\u001b[0;32m--> 924\u001b[0m results \u001b[39m=\u001b[39m \u001b[39mself\u001b[39;49m\u001b[39m.\u001b[39;49m_stateful_fn(\u001b[39m*\u001b[39;49margs, \u001b[39m*\u001b[39;49m\u001b[39m*\u001b[39;49mkwds)\n\u001b[1;32m    925\u001b[0m \u001b[39mif\u001b[39;00m \u001b[39mself\u001b[39m\u001b[39m.\u001b[39m_created_variables \u001b[39mand\u001b[39;00m \u001b[39mnot\u001b[39;00m ALLOW_DYNAMIC_VARIABLE_CREATION:\n\u001b[1;32m    926\u001b[0m   \u001b[39mraise\u001b[39;00m \u001b[39mValueError\u001b[39;00m(\u001b[39m\"\u001b[39m\u001b[39mCreating variables on a non-first call to a function\u001b[39m\u001b[39m\"\u001b[39m\n\u001b[1;32m    927\u001b[0m                    \u001b[39m\"\u001b[39m\u001b[39m decorated with tf.function.\u001b[39m\u001b[39m\"\u001b[39m)\n",
      "File \u001b[0;32m~/projects/deep_learning_vs_gbdt/venv/lib/python3.9/site-packages/tensorflow/python/eager/function.py:3039\u001b[0m, in \u001b[0;36mFunction.__call__\u001b[0;34m(self, *args, **kwargs)\u001b[0m\n\u001b[1;32m   3036\u001b[0m \u001b[39mwith\u001b[39;00m \u001b[39mself\u001b[39m\u001b[39m.\u001b[39m_lock:\n\u001b[1;32m   3037\u001b[0m   (graph_function,\n\u001b[1;32m   3038\u001b[0m    filtered_flat_args) \u001b[39m=\u001b[39m \u001b[39mself\u001b[39m\u001b[39m.\u001b[39m_maybe_define_function(args, kwargs)\n\u001b[0;32m-> 3039\u001b[0m \u001b[39mreturn\u001b[39;00m graph_function\u001b[39m.\u001b[39;49m_call_flat(\n\u001b[1;32m   3040\u001b[0m     filtered_flat_args, captured_inputs\u001b[39m=\u001b[39;49mgraph_function\u001b[39m.\u001b[39;49mcaptured_inputs)\n",
      "File \u001b[0;32m~/projects/deep_learning_vs_gbdt/venv/lib/python3.9/site-packages/tensorflow/python/eager/function.py:1963\u001b[0m, in \u001b[0;36mConcreteFunction._call_flat\u001b[0;34m(self, args, captured_inputs, cancellation_manager)\u001b[0m\n\u001b[1;32m   1959\u001b[0m possible_gradient_type \u001b[39m=\u001b[39m gradients_util\u001b[39m.\u001b[39mPossibleTapeGradientTypes(args)\n\u001b[1;32m   1960\u001b[0m \u001b[39mif\u001b[39;00m (possible_gradient_type \u001b[39m==\u001b[39m gradients_util\u001b[39m.\u001b[39mPOSSIBLE_GRADIENT_TYPES_NONE\n\u001b[1;32m   1961\u001b[0m     \u001b[39mand\u001b[39;00m executing_eagerly):\n\u001b[1;32m   1962\u001b[0m   \u001b[39m# No tape is watching; skip to running the function.\u001b[39;00m\n\u001b[0;32m-> 1963\u001b[0m   \u001b[39mreturn\u001b[39;00m \u001b[39mself\u001b[39m\u001b[39m.\u001b[39m_build_call_outputs(\u001b[39mself\u001b[39;49m\u001b[39m.\u001b[39;49m_inference_function\u001b[39m.\u001b[39;49mcall(\n\u001b[1;32m   1964\u001b[0m       ctx, args, cancellation_manager\u001b[39m=\u001b[39;49mcancellation_manager))\n\u001b[1;32m   1965\u001b[0m forward_backward \u001b[39m=\u001b[39m \u001b[39mself\u001b[39m\u001b[39m.\u001b[39m_select_forward_and_backward_functions(\n\u001b[1;32m   1966\u001b[0m     args,\n\u001b[1;32m   1967\u001b[0m     possible_gradient_type,\n\u001b[1;32m   1968\u001b[0m     executing_eagerly)\n\u001b[1;32m   1969\u001b[0m forward_function, args_with_tangents \u001b[39m=\u001b[39m forward_backward\u001b[39m.\u001b[39mforward()\n",
      "File \u001b[0;32m~/projects/deep_learning_vs_gbdt/venv/lib/python3.9/site-packages/tensorflow/python/eager/function.py:591\u001b[0m, in \u001b[0;36m_EagerDefinedFunction.call\u001b[0;34m(self, ctx, args, cancellation_manager)\u001b[0m\n\u001b[1;32m    589\u001b[0m \u001b[39mwith\u001b[39;00m _InterpolateFunctionError(\u001b[39mself\u001b[39m):\n\u001b[1;32m    590\u001b[0m   \u001b[39mif\u001b[39;00m cancellation_manager \u001b[39mis\u001b[39;00m \u001b[39mNone\u001b[39;00m:\n\u001b[0;32m--> 591\u001b[0m     outputs \u001b[39m=\u001b[39m execute\u001b[39m.\u001b[39;49mexecute(\n\u001b[1;32m    592\u001b[0m         \u001b[39mstr\u001b[39;49m(\u001b[39mself\u001b[39;49m\u001b[39m.\u001b[39;49msignature\u001b[39m.\u001b[39;49mname),\n\u001b[1;32m    593\u001b[0m         num_outputs\u001b[39m=\u001b[39;49m\u001b[39mself\u001b[39;49m\u001b[39m.\u001b[39;49m_num_outputs,\n\u001b[1;32m    594\u001b[0m         inputs\u001b[39m=\u001b[39;49margs,\n\u001b[1;32m    595\u001b[0m         attrs\u001b[39m=\u001b[39;49mattrs,\n\u001b[1;32m    596\u001b[0m         ctx\u001b[39m=\u001b[39;49mctx)\n\u001b[1;32m    597\u001b[0m   \u001b[39melse\u001b[39;00m:\n\u001b[1;32m    598\u001b[0m     outputs \u001b[39m=\u001b[39m execute\u001b[39m.\u001b[39mexecute_with_cancellation(\n\u001b[1;32m    599\u001b[0m         \u001b[39mstr\u001b[39m(\u001b[39mself\u001b[39m\u001b[39m.\u001b[39msignature\u001b[39m.\u001b[39mname),\n\u001b[1;32m    600\u001b[0m         num_outputs\u001b[39m=\u001b[39m\u001b[39mself\u001b[39m\u001b[39m.\u001b[39m_num_outputs,\n\u001b[0;32m   (...)\u001b[0m\n\u001b[1;32m    603\u001b[0m         ctx\u001b[39m=\u001b[39mctx,\n\u001b[1;32m    604\u001b[0m         cancellation_manager\u001b[39m=\u001b[39mcancellation_manager)\n",
      "File \u001b[0;32m~/projects/deep_learning_vs_gbdt/venv/lib/python3.9/site-packages/tensorflow/python/eager/execute.py:59\u001b[0m, in \u001b[0;36mquick_execute\u001b[0;34m(op_name, num_outputs, inputs, attrs, ctx, name)\u001b[0m\n\u001b[1;32m     57\u001b[0m \u001b[39mtry\u001b[39;00m:\n\u001b[1;32m     58\u001b[0m   ctx\u001b[39m.\u001b[39mensure_initialized()\n\u001b[0;32m---> 59\u001b[0m   tensors \u001b[39m=\u001b[39m pywrap_tfe\u001b[39m.\u001b[39;49mTFE_Py_Execute(ctx\u001b[39m.\u001b[39;49m_handle, device_name, op_name,\n\u001b[1;32m     60\u001b[0m                                       inputs, attrs, num_outputs)\n\u001b[1;32m     61\u001b[0m \u001b[39mexcept\u001b[39;00m core\u001b[39m.\u001b[39m_NotOkStatusException \u001b[39mas\u001b[39;00m e:\n\u001b[1;32m     62\u001b[0m   \u001b[39mif\u001b[39;00m name \u001b[39mis\u001b[39;00m \u001b[39mnot\u001b[39;00m \u001b[39mNone\u001b[39;00m:\n",
      "\u001b[0;31mInvalidArgumentError\u001b[0m:  Input to reshape is a tensor with 2534400 values, but the requested shape requires a multiple of 131072\n\t [[node sequential_2/tab_net_7/transform_block_112/transformblock_bn_f1/Reshape (defined at home/alexander/projects/deep_learning_vs_gbdt/venv/lib/python3.9/site-packages/tabnet/tabnet.py:34) ]] [Op:__inference_test_function_91403]\n\nErrors may have originated from an input operation.\nInput Source operations connected to node sequential_2/tab_net_7/transform_block_112/transformblock_bn_f1/Reshape:\n sequential_2/tab_net_7/transform_block_112/transformblock_dense_f1/MatMul (defined at home/alexander/projects/deep_learning_vs_gbdt/venv/lib/python3.9/site-packages/tabnet/tabnet.py:33)\n\nFunction call stack:\ntest_function\n"
     ]
    }
   ],
   "source": [
    "# Evaluate model on test set\n",
    "online_implementation.evaluate(test_dataset)"
   ]
  },
  {
   "cell_type": "code",
   "execution_count": null,
   "metadata": {},
   "outputs": [],
   "source": []
  }
 ],
 "metadata": {
  "kernelspec": {
   "display_name": "tabnet",
   "language": "python",
   "name": "tabnet"
  },
  "language_info": {
   "codemirror_mode": {
    "name": "ipython",
    "version": 3
   },
   "file_extension": ".py",
   "mimetype": "text/x-python",
   "name": "python",
   "nbconvert_exporter": "python",
   "pygments_lexer": "ipython3",
   "version": "3.9.16"
  },
  "orig_nbformat": 4
 },
 "nbformat": 4,
 "nbformat_minor": 2
}
