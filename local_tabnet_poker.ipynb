{
 "cells": [
  {
   "attachments": {},
   "cell_type": "markdown",
   "metadata": {},
   "source": [
    "# Imports"
   ]
  },
  {
   "cell_type": "code",
   "execution_count": 1,
   "metadata": {},
   "outputs": [],
   "source": [
    "import tensorflow as tf\n",
    "# from tensorflow.python.framework.ops import disable_eager_execution \n",
    "# disable_eager_execution()\n",
    "# from tensorflow.python.framework.ops import enable_eager_execution\n",
    "# enable_eager_execution()\n",
    "import matplotlib.pyplot as plt\n",
    "import numpy as np\n",
    "import pandas as pd\n",
    "from sklearn.model_selection import train_test_split\n",
    "from sklearn.preprocessing import StandardScaler\n",
    "from sklearn.preprocessing import LabelEncoder"
   ]
  },
  {
   "cell_type": "code",
   "execution_count": 2,
   "metadata": {},
   "outputs": [],
   "source": [
    "# Import common tensorflow layers and activations\n",
    "from tensorflow.keras.layers import Dense, Dropout, BatchNormalization, Layer\n",
    "from tensorflow.keras.layers import Lambda, Multiply, Add, Rescaling\n",
    "from tensorflow.keras.activations import relu, sigmoid, softmax\n",
    "from tensorflow.keras import Model\n",
    "from tensorflow.keras import Sequential\n",
    "from tensorflow.keras import Input\n",
    "\n",
    "from local_tabnet import TabNet\n",
    "from local_tabnet import CategoryEmbeddingShimLayer"
   ]
  },
  {
   "cell_type": "code",
   "execution_count": 3,
   "metadata": {},
   "outputs": [],
   "source": [
    "BATCH_SIZE = 4096\n",
    "LAMBDA = 1e-6\n",
    "N_A = 16\n",
    "N_D = 16\n",
    "VIRTUAL_BATCH_SIZE = 1024\n",
    "BATCH_MOMENTUM = 0.95\n",
    "N_STEPS = 4\n",
    "GAMMA = 1.5"
   ]
  },
  {
   "attachments": {},
   "cell_type": "markdown",
   "metadata": {},
   "source": [
    "# Data Defn"
   ]
  },
  {
   "cell_type": "code",
   "execution_count": 20,
   "metadata": {},
   "outputs": [
    {
     "name": "stdout",
     "output_type": "stream",
     "text": [
      "S1 4\n",
      "C1 13\n",
      "S2 4\n",
      "C2 13\n",
      "S3 4\n",
      "C3 13\n",
      "S4 4\n",
      "C4 13\n",
      "S5 4\n",
      "C5 13\n",
      "Total iterations:  50000\n",
      "Iterations per epoch:  6\n",
      "Max epochs:  8333\n",
      "Iterations to change lr:  500\n",
      "Epochs to change lr:  83\n"
     ]
    }
   ],
   "source": [
    "# Load telematics data\n",
    "dataset_name = 'poker_hand'\n",
    "train = pd.read_csv('poker_hand/poker-hand-training-true.data')\n",
    "test = pd.read_csv('poker_hand/poker-hand-testing.data')\n",
    "\n",
    "covariates = ['S1', 'C1', 'S2', 'C2', 'S3', 'C3', 'S4', 'C4', 'S5', 'C5']\n",
    "target = 'class'\n",
    "train.columns = [*covariates, target]\n",
    "test.columns = train.columns\n",
    "\n",
    "categorical_columns = []\n",
    "cat_idxs = []\n",
    "cat_dims = []\n",
    "categorical_dims =  {}\n",
    "for i, col in enumerate(covariates):\n",
    "    print(col, train[col].nunique())\n",
    "    l_enc = LabelEncoder()\n",
    "    train[col] = train[col].fillna(\"VV_likely\")\n",
    "    train[col] = l_enc.fit_transform(train[col].values)\n",
    "    test[col] = test[col].fillna(\"VV_likely\")\n",
    "    test[col] = l_enc.transform(test[col].values)\n",
    "    categorical_columns.append(col)\n",
    "    cat_idxs.append(i)\n",
    "    cat_dims.append(train[col].nunique())\n",
    "    categorical_dims[col] = len(l_enc.classes_)\n",
    "\n",
    "unused_feat = []\n",
    "features = [ col for col in train.columns if col not in unused_feat+[target]] \n",
    "cat_idxs = [ i for i, f in enumerate(features) if f in categorical_columns]\n",
    "cat_dims = [ categorical_dims[f] for i, f in enumerate(features) if f in categorical_columns]\n",
    "\n",
    "iterations_per_epoch = train.shape[0]//BATCH_SIZE\n",
    "total_iterations = 50000\n",
    "iterations_to_change_lr = 500\n",
    "max_epochs = total_iterations//iterations_per_epoch\n",
    "epochs_to_change_lr = iterations_to_change_lr//iterations_per_epoch\n",
    "\n",
    "print(\"Total iterations: \", total_iterations)\n",
    "print(\"Iterations per epoch: \", iterations_per_epoch)\n",
    "print(\"Max epochs: \", max_epochs)\n",
    "print(\"Iterations to change lr: \", iterations_to_change_lr)\n",
    "print(\"Epochs to change lr: \", epochs_to_change_lr)\n",
    "\n",
    "# Split into X and y\n",
    "train_indices, val_indices = train_test_split( np.arange(len(train)), test_size=0.2, random_state=42)\n",
    "\n",
    "X_train = train[features].values[train_indices]\n",
    "y_train = train[target].values[train_indices]\n",
    "\n",
    "X_val = train[features].values[val_indices]\n",
    "y_val = train[target].values[val_indices]\n",
    "\n",
    "X_test = test[features].values\n",
    "y_test = test[target].values\n",
    "\n",
    "# Make tensorflow datasets\n",
    "train_dataset = tf.data.Dataset.from_tensor_slices((X_train.astype(float), y_train[..., np.newaxis]))\n",
    "train_dataset = train_dataset.shuffle(buffer_size=4048).batch(BATCH_SIZE, drop_remainder=True)\n",
    "val_dataset = tf.data.Dataset.from_tensor_slices((X_val.astype(float), y_val[..., np.newaxis]))\n",
    "val_dataset = val_dataset.batch(BATCH_SIZE, drop_remainder=True)\n",
    "test_dataset = tf.data.Dataset.from_tensor_slices((X_test.astype(float), y_test[..., np.newaxis]))\n",
    "test_dataset = test_dataset.batch(BATCH_SIZE, drop_remainder=True)"
   ]
  },
  {
   "attachments": {},
   "cell_type": "markdown",
   "metadata": {},
   "source": [
    "# Model creation and training"
   ]
  },
  {
   "cell_type": "code",
   "execution_count": 5,
   "metadata": {},
   "outputs": [],
   "source": [
    "%load_ext autoreload"
   ]
  },
  {
   "cell_type": "code",
   "execution_count": 6,
   "metadata": {},
   "outputs": [
    {
     "name": "stdout",
     "output_type": "stream",
     "text": [
      "Initialised category embeddings:\n",
      "[array([0.04051644, 0.00860258, 0.01071434, 0.01225292], dtype=float32), array([ 0.00976294, -0.03964385,  0.00607982, -0.00588123,  0.04469928,\n",
      "        0.02205086, -0.04791477,  0.00862944, -0.006428  ,  0.02292886,\n",
      "       -0.00304509, -0.04556496,  0.02907136], dtype=float32), array([0.00544119, 0.01716891, 0.04518478, 0.00813293], dtype=float32), array([ 0.00177959,  0.03353113, -0.04559879, -0.03787831,  0.04271443,\n",
      "       -0.00988667, -0.03085662, -0.00527774,  0.02712813,  0.02912574,\n",
      "       -0.00501389, -0.00274426,  0.01258389], dtype=float32), array([ 0.03987045,  0.01476545, -0.03573718, -0.02528547], dtype=float32), array([ 0.02883346,  0.00329896, -0.01505486, -0.00576738,  0.01492483,\n",
      "       -0.04799627, -0.04345435, -0.02768613, -0.01146592, -0.0419239 ,\n",
      "       -0.04014551, -0.02584113, -0.0026282 ], dtype=float32), array([ 0.03549312,  0.03176725, -0.03845765,  0.04540049], dtype=float32), array([-0.0300599 , -0.02980032, -0.01713317,  0.04134432,  0.02365049,\n",
      "        0.04310657,  0.0197407 , -0.02655808,  0.032041  ,  0.02726593,\n",
      "        0.03809032, -0.03857588, -0.03751145], dtype=float32), array([ 0.00690766, -0.02085896, -0.01653362, -0.00554043], dtype=float32), array([ 0.02811178,  0.0197572 ,  0.03118301,  0.04196173,  0.00684369,\n",
      "       -0.04227545,  0.01544276,  0.04766781,  0.04651621,  0.00391044,\n",
      "       -0.02414894,  0.02150952, -0.03466605], dtype=float32)]\n"
     ]
    }
   ],
   "source": [
    "%autoreload 2\n",
    "\n",
    "local_implementation = TabNet(\n",
    "    dim_features=X_train.shape[1],\n",
    "    dim_attention=N_A, \n",
    "    dim_output=10, \n",
    "    sparsity=LAMBDA,\n",
    "    num_steps=N_STEPS,\n",
    "    gamma=GAMMA,\n",
    "    preprocess_model=CategoryEmbeddingShimLayer(\n",
    "        cat_idxs=cat_idxs,\n",
    "        num_cats=cat_dims,\n",
    "    ),\n",
    "    output_activation=\"softmax\")\n",
    "\n",
    "# Exponential decay learning rate\n",
    "lr = tf.keras.optimizers.schedules.ExponentialDecay(\n",
    "    initial_learning_rate=1e-2,\n",
    "    decay_steps=iterations_to_change_lr,\n",
    "    decay_rate=0.95,\n",
    "    staircase=True\n",
    ")\n",
    "\n",
    "local_implementation.compile( \n",
    "    optimizer=tf.keras.optimizers.Adam(learning_rate=lr), \n",
    "    loss=tf.keras.losses.SparseCategoricalCrossentropy(from_logits=False),\n",
    "    metrics=[\"accuracy\"]\n",
    ")\n",
    "# build it\n",
    "local_implementation(X_train[:BATCH_SIZE].astype(np.float32))\n",
    "\n",
    "# Inspect initialisations of category embeddings\n",
    "print(\"Initialised category embeddings:\")\n",
    "initial_embeddings = [x.numpy().copy().squeeze() for x in local_implementation.preprocess_model.embeddings]\n",
    "print(initial_embeddings)"
   ]
  },
  {
   "cell_type": "code",
   "execution_count": 7,
   "metadata": {},
   "outputs": [
    {
     "name": "stdout",
     "output_type": "stream",
     "text": [
      "Model: \"tab_net\"\n",
      "_________________________________________________________________\n",
      "Layer (type)                 Output Shape              Param #   \n",
      "=================================================================\n",
      "category_embedding_shim_laye multiple                  85        \n",
      "_________________________________________________________________\n",
      "shared_feature_layer (Shared multiple                  3328      \n",
      "_________________________________________________________________\n",
      "feat_0 (FeatureTransformer)  multiple                  8064      \n",
      "_________________________________________________________________\n",
      "feat_1 (FeatureTransformer)  multiple                  8064      \n",
      "_________________________________________________________________\n",
      "feat_2 (FeatureTransformer)  multiple                  8064      \n",
      "_________________________________________________________________\n",
      "feat_3 (FeatureTransformer)  multiple                  8064      \n",
      "_________________________________________________________________\n",
      "feat_4 (FeatureTransformer)  multiple                  8064      \n",
      "_________________________________________________________________\n",
      "attn_1 (AttentiveTransformer multiple                  210       \n",
      "_________________________________________________________________\n",
      "attn_2 (AttentiveTransformer multiple                  210       \n",
      "_________________________________________________________________\n",
      "attn_3 (AttentiveTransformer multiple                  210       \n",
      "_________________________________________________________________\n",
      "attn_4 (AttentiveTransformer multiple                  210       \n",
      "_________________________________________________________________\n",
      "norm_in (BatchNormalization) multiple                  40        \n",
      "_________________________________________________________________\n",
      "output (Dense)               multiple                  170       \n",
      "=================================================================\n",
      "Total params: 28,143\n",
      "Trainable params: 26,507\n",
      "Non-trainable params: 1,636\n",
      "_________________________________________________________________\n"
     ]
    }
   ],
   "source": [
    "local_implementation.summary()"
   ]
  },
  {
   "cell_type": "code",
   "execution_count": 8,
   "metadata": {},
   "outputs": [
    {
     "name": "stdout",
     "output_type": "stream",
     "text": [
      "Epoch 1/1000\n"
     ]
    },
    {
     "name": "stderr",
     "output_type": "stream",
     "text": [
      "2023-05-24 16:20:50.304875: I tensorflow/compiler/mlir/mlir_graph_optimization_pass.cc:185] None of the MLIR Optimization Passes are enabled (registered 2)\n"
     ]
    },
    {
     "name": "stdout",
     "output_type": "stream",
     "text": [
      "4/4 [==============================] - 20s 1s/step - loss: 3.6010 - accuracy: 0.0574 - val_loss: 0.0000e+00 - val_accuracy: 0.4329\n",
      "Epoch 2/1000\n",
      "4/4 [==============================] - 2s 444ms/step - loss: 2.2296 - accuracy: 0.2705 - val_loss: 0.0000e+00 - val_accuracy: 0.5139\n",
      "Epoch 3/1000\n",
      "4/4 [==============================] - 2s 605ms/step - loss: 1.6092 - accuracy: 0.4293 - val_loss: 0.0000e+00 - val_accuracy: 0.5139\n",
      "Epoch 4/1000\n",
      "4/4 [==============================] - 2s 486ms/step - loss: 1.3102 - accuracy: 0.4796 - val_loss: 0.0000e+00 - val_accuracy: 0.5139\n",
      "Epoch 5/1000\n",
      "4/4 [==============================] - 2s 473ms/step - loss: 1.1758 - accuracy: 0.4816 - val_loss: 0.0000e+00 - val_accuracy: 0.5139\n",
      "Epoch 6/1000\n",
      "4/4 [==============================] - 2s 427ms/step - loss: 1.1077 - accuracy: 0.4813 - val_loss: 0.0000e+00 - val_accuracy: 0.5139\n",
      "Epoch 7/1000\n",
      "4/4 [==============================] - 2s 467ms/step - loss: 1.0663 - accuracy: 0.4821 - val_loss: 0.0000e+00 - val_accuracy: 0.5139\n",
      "Epoch 8/1000\n",
      "4/4 [==============================] - 1s 263ms/step - loss: 1.0497 - accuracy: 0.4798 - val_loss: 0.0000e+00 - val_accuracy: 0.5139\n",
      "Epoch 9/1000\n",
      "4/4 [==============================] - 1s 284ms/step - loss: 1.0358 - accuracy: 0.4805 - val_loss: 0.0000e+00 - val_accuracy: 0.5139\n",
      "Epoch 10/1000\n",
      "4/4 [==============================] - 1s 188ms/step - loss: 1.0311 - accuracy: 0.4769 - val_loss: 0.0000e+00 - val_accuracy: 0.5139\n",
      "Epoch 11/1000\n",
      "4/4 [==============================] - 1s 220ms/step - loss: 1.0231 - accuracy: 0.4779 - val_loss: 0.0000e+00 - val_accuracy: 0.5139\n",
      "Epoch 12/1000\n",
      "4/4 [==============================] - 2s 457ms/step - loss: 1.0231 - accuracy: 0.4756 - val_loss: 0.0000e+00 - val_accuracy: 0.5139\n",
      "Epoch 13/1000\n",
      "4/4 [==============================] - 2s 379ms/step - loss: 1.0277 - accuracy: 0.4856 - val_loss: 0.0000e+00 - val_accuracy: 0.5139\n",
      "Epoch 14/1000\n",
      "4/4 [==============================] - 1s 194ms/step - loss: 1.0241 - accuracy: 0.4918 - val_loss: 0.0000e+00 - val_accuracy: 0.5139\n",
      "Epoch 15/1000\n",
      "4/4 [==============================] - 1s 294ms/step - loss: 1.0152 - accuracy: 0.4858 - val_loss: 0.0000e+00 - val_accuracy: 0.5139\n",
      "Epoch 16/1000\n",
      "4/4 [==============================] - 1s 235ms/step - loss: 1.0171 - accuracy: 0.4843 - val_loss: 0.0000e+00 - val_accuracy: 0.5137\n",
      "Epoch 17/1000\n",
      "4/4 [==============================] - 1s 265ms/step - loss: 1.0090 - accuracy: 0.4893 - val_loss: 0.0000e+00 - val_accuracy: 0.5129\n",
      "Epoch 18/1000\n",
      "4/4 [==============================] - 1s 202ms/step - loss: 1.0078 - accuracy: 0.4932 - val_loss: 0.0000e+00 - val_accuracy: 0.5129\n",
      "Epoch 19/1000\n",
      "4/4 [==============================] - 1s 162ms/step - loss: 1.0108 - accuracy: 0.4922 - val_loss: 0.0000e+00 - val_accuracy: 0.5115\n",
      "Epoch 20/1000\n",
      "4/4 [==============================] - 1s 241ms/step - loss: 1.0070 - accuracy: 0.4842 - val_loss: 0.0000e+00 - val_accuracy: 0.5063\n",
      "Epoch 21/1000\n",
      "4/4 [==============================] - 1s 257ms/step - loss: 1.0090 - accuracy: 0.4807 - val_loss: 0.0000e+00 - val_accuracy: 0.4741\n",
      "Epoch 22/1000\n",
      "4/4 [==============================] - 1s 198ms/step - loss: 1.0061 - accuracy: 0.4891 - val_loss: 0.0000e+00 - val_accuracy: 0.4841\n",
      "Epoch 23/1000\n",
      "4/4 [==============================] - 1s 187ms/step - loss: 1.0026 - accuracy: 0.4894 - val_loss: 0.0000e+00 - val_accuracy: 0.5056\n",
      "Epoch 24/1000\n",
      "4/4 [==============================] - 1s 149ms/step - loss: 0.9978 - accuracy: 0.4910 - val_loss: 0.0000e+00 - val_accuracy: 0.5107\n",
      "Epoch 25/1000\n",
      "4/4 [==============================] - 1s 243ms/step - loss: 1.0066 - accuracy: 0.4870 - val_loss: 0.0000e+00 - val_accuracy: 0.5139\n",
      "Epoch 26/1000\n",
      "4/4 [==============================] - 1s 183ms/step - loss: 0.9977 - accuracy: 0.4911 - val_loss: 0.0000e+00 - val_accuracy: 0.5112\n",
      "Epoch 27/1000\n",
      "4/4 [==============================] - 1s 194ms/step - loss: 1.0023 - accuracy: 0.4915 - val_loss: 0.0000e+00 - val_accuracy: 0.5120\n",
      "Epoch 28/1000\n",
      "4/4 [==============================] - 1s 190ms/step - loss: 0.9930 - accuracy: 0.4955 - val_loss: 0.0000e+00 - val_accuracy: 0.5125\n",
      "Epoch 29/1000\n",
      "4/4 [==============================] - 1s 196ms/step - loss: 0.9965 - accuracy: 0.4957 - val_loss: 0.0000e+00 - val_accuracy: 0.5151\n",
      "Epoch 30/1000\n",
      "4/4 [==============================] - 1s 225ms/step - loss: 0.9955 - accuracy: 0.4955 - val_loss: 0.0000e+00 - val_accuracy: 0.5125\n",
      "Epoch 31/1000\n",
      "4/4 [==============================] - 1s 192ms/step - loss: 0.9975 - accuracy: 0.4993 - val_loss: 0.0000e+00 - val_accuracy: 0.5122\n",
      "Epoch 32/1000\n",
      "4/4 [==============================] - 1s 197ms/step - loss: 0.9962 - accuracy: 0.4984 - val_loss: 0.0000e+00 - val_accuracy: 0.5129\n",
      "Epoch 33/1000\n",
      "4/4 [==============================] - 1s 196ms/step - loss: 0.9947 - accuracy: 0.4991 - val_loss: 0.0000e+00 - val_accuracy: 0.5139\n",
      "Epoch 34/1000\n",
      "4/4 [==============================] - 1s 182ms/step - loss: 0.9929 - accuracy: 0.4982 - val_loss: 0.0000e+00 - val_accuracy: 0.5137\n",
      "Epoch 35/1000\n",
      "4/4 [==============================] - 1s 337ms/step - loss: 0.9950 - accuracy: 0.4983 - val_loss: 0.0000e+00 - val_accuracy: 0.5125\n",
      "Epoch 36/1000\n",
      "4/4 [==============================] - 1s 250ms/step - loss: 0.9965 - accuracy: 0.4987 - val_loss: 0.0000e+00 - val_accuracy: 0.5088\n",
      "Epoch 37/1000\n",
      "4/4 [==============================] - 1s 247ms/step - loss: 0.9958 - accuracy: 0.4948 - val_loss: 0.0000e+00 - val_accuracy: 0.5088\n",
      "Epoch 38/1000\n",
      "4/4 [==============================] - 1s 192ms/step - loss: 0.9919 - accuracy: 0.4935 - val_loss: 0.0000e+00 - val_accuracy: 0.5110\n",
      "Epoch 39/1000\n",
      "4/4 [==============================] - 1s 232ms/step - loss: 0.9909 - accuracy: 0.5032 - val_loss: 0.0000e+00 - val_accuracy: 0.5037\n",
      "Epoch 40/1000\n",
      "4/4 [==============================] - 1s 186ms/step - loss: 0.9875 - accuracy: 0.4996 - val_loss: 0.0000e+00 - val_accuracy: 0.5027\n",
      "Epoch 41/1000\n",
      "4/4 [==============================] - 1s 280ms/step - loss: 0.9912 - accuracy: 0.4993 - val_loss: 0.0000e+00 - val_accuracy: 0.4998\n",
      "Epoch 42/1000\n",
      "4/4 [==============================] - 1s 222ms/step - loss: 0.9940 - accuracy: 0.4948 - val_loss: 0.0000e+00 - val_accuracy: 0.5081\n",
      "Epoch 43/1000\n",
      "4/4 [==============================] - 1s 243ms/step - loss: 0.9920 - accuracy: 0.4946 - val_loss: 0.0000e+00 - val_accuracy: 0.5059\n",
      "Epoch 44/1000\n",
      "4/4 [==============================] - 1s 185ms/step - loss: 0.9937 - accuracy: 0.4976 - val_loss: 0.0000e+00 - val_accuracy: 0.4988\n",
      "Epoch 45/1000\n",
      "4/4 [==============================] - 1s 360ms/step - loss: 0.9926 - accuracy: 0.5003 - val_loss: 0.0000e+00 - val_accuracy: 0.4998\n",
      "Epoch 46/1000\n",
      "4/4 [==============================] - 1s 294ms/step - loss: 0.9894 - accuracy: 0.4992 - val_loss: 0.0000e+00 - val_accuracy: 0.5085\n",
      "Epoch 47/1000\n",
      "4/4 [==============================] - 1s 239ms/step - loss: 0.9898 - accuracy: 0.4972 - val_loss: 0.0000e+00 - val_accuracy: 0.5066\n",
      "Epoch 48/1000\n",
      "4/4 [==============================] - 1s 204ms/step - loss: 0.9910 - accuracy: 0.4991 - val_loss: 0.0000e+00 - val_accuracy: 0.5120\n",
      "Epoch 49/1000\n",
      "4/4 [==============================] - 1s 184ms/step - loss: 0.9933 - accuracy: 0.5010 - val_loss: 0.0000e+00 - val_accuracy: 0.5112\n",
      "Epoch 50/1000\n",
      "4/4 [==============================] - 1s 264ms/step - loss: 0.9892 - accuracy: 0.4984 - val_loss: 0.0000e+00 - val_accuracy: 0.5115\n",
      "Epoch 51/1000\n",
      "4/4 [==============================] - 1s 210ms/step - loss: 0.9918 - accuracy: 0.4982 - val_loss: 0.0000e+00 - val_accuracy: 0.5098\n",
      "Epoch 52/1000\n",
      "4/4 [==============================] - 1s 201ms/step - loss: 0.9987 - accuracy: 0.4906 - val_loss: 0.0000e+00 - val_accuracy: 0.5120\n",
      "Epoch 53/1000\n",
      "4/4 [==============================] - 1s 199ms/step - loss: 0.9950 - accuracy: 0.4929 - val_loss: 0.0000e+00 - val_accuracy: 0.5112\n",
      "Epoch 54/1000\n",
      "4/4 [==============================] - 1s 219ms/step - loss: 0.9923 - accuracy: 0.4980 - val_loss: 0.0000e+00 - val_accuracy: 0.5125\n",
      "Epoch 55/1000\n",
      "4/4 [==============================] - 1s 233ms/step - loss: 0.9918 - accuracy: 0.4976 - val_loss: 0.0000e+00 - val_accuracy: 0.5076\n",
      "Epoch 56/1000\n",
      "4/4 [==============================] - 1s 250ms/step - loss: 0.9940 - accuracy: 0.4996 - val_loss: 0.0000e+00 - val_accuracy: 0.5073\n",
      "Epoch 57/1000\n",
      "4/4 [==============================] - 1s 195ms/step - loss: 0.9896 - accuracy: 0.4963 - val_loss: 0.0000e+00 - val_accuracy: 0.5112\n",
      "Epoch 58/1000\n",
      "4/4 [==============================] - 1s 199ms/step - loss: 0.9925 - accuracy: 0.4946 - val_loss: 0.0000e+00 - val_accuracy: 0.5020\n",
      "Epoch 59/1000\n",
      "4/4 [==============================] - 1s 190ms/step - loss: 0.9889 - accuracy: 0.4966 - val_loss: 0.0000e+00 - val_accuracy: 0.5063\n"
     ]
    }
   ],
   "source": [
    "early_stopping = tf.keras.callbacks.EarlyStopping(patience=30, restore_best_weights=True, monitor=\"val_accuracy\")\n",
    "history = local_implementation.fit(train_dataset, epochs=1000, validation_data=val_dataset, callbacks=[early_stopping])"
   ]
  },
  {
   "cell_type": "code",
   "execution_count": 9,
   "metadata": {},
   "outputs": [
    {
     "name": "stdout",
     "output_type": "stream",
     "text": [
      "Final category embeddings:\n",
      "[array([-0.02960523,  0.00445478,  0.08211653, -0.0158069 ], dtype=float32), array([ 0.00805351, -0.10855145, -0.01815994,  0.01308992, -0.0302489 ,\n",
      "       -0.00841764, -0.03773815,  0.04072873,  0.10544459,  0.13246797,\n",
      "       -0.00838406, -0.07788962,  0.02690699], dtype=float32), array([ 0.04446001,  0.12433114,  0.08341094, -0.06265144], dtype=float32), array([ 2.8908484e-02,  1.0819359e-01, -4.1218691e-02,  7.3574156e-02,\n",
      "       -6.7568873e-03, -1.8679248e-01,  2.2159429e-02,  2.1108110e-02,\n",
      "        1.1023868e-01, -2.6872015e-02,  8.1322081e-02,  3.3632562e-02,\n",
      "        1.6346262e-04], dtype=float32), array([ 0.12300566, -0.11192788, -0.07841806,  0.0503654 ], dtype=float32), array([ 0.06896576, -0.01763709, -0.08546245,  0.1183951 , -0.05730345,\n",
      "       -0.00566758, -0.0899258 ,  0.15510766,  0.06392906, -0.08356636,\n",
      "       -0.07620333, -0.05680124, -0.10967186], dtype=float32), array([ 0.05755797, -0.08311367, -0.04447298,  0.10129385], dtype=float32), array([-0.04588109,  0.01210646, -0.08531348,  0.02476983,  0.09367692,\n",
      "        0.10420697,  0.07416533, -0.07933047, -0.01868255, -0.08734869,\n",
      "        0.06631034, -0.15975511,  0.0355518 ], dtype=float32), array([ 0.07345761, -0.00769011, -0.01811738, -0.09341881], dtype=float32), array([ 0.00185036, -0.0069358 ,  0.11309092,  0.11444842, -0.0618191 ,\n",
      "        0.0731235 ,  0.03136102,  0.00789455,  0.0085923 , -0.12345359,\n",
      "        0.02040157, -0.01087365, -0.11516212], dtype=float32)]\n",
      "Change in category embeddings:\n",
      "[array([-0.07012167, -0.0041478 ,  0.07140219, -0.02805982], dtype=float32), array([-0.00170944, -0.0689076 , -0.02423975,  0.01897115, -0.07494818,\n",
      "       -0.0304685 ,  0.01017662,  0.03209929,  0.11187259,  0.10953911,\n",
      "       -0.00533896, -0.03232466, -0.00216438], dtype=float32), array([ 0.03901882,  0.10716224,  0.03822616, -0.07078438], dtype=float32), array([ 0.02712889,  0.07466246,  0.0043801 ,  0.11145247, -0.04947131,\n",
      "       -0.17690581,  0.05301605,  0.02638585,  0.08311054, -0.05599775,\n",
      "        0.08633597,  0.03637682, -0.01242042], dtype=float32), array([ 0.0831352 , -0.12669334, -0.04268088,  0.07565087], dtype=float32), array([ 0.0401323 , -0.02093605, -0.07040759,  0.12416248, -0.07222828,\n",
      "        0.0423287 , -0.04647145,  0.1827938 ,  0.07539497, -0.04164246,\n",
      "       -0.03605783, -0.03096011, -0.10704367], dtype=float32), array([ 0.02206485, -0.11488092, -0.00601532,  0.05589336], dtype=float32), array([-0.01582119,  0.04190679, -0.06818031, -0.01657449,  0.07002643,\n",
      "        0.0611004 ,  0.05442462, -0.0527724 , -0.05072355, -0.11461462,\n",
      "        0.02822002, -0.12117924,  0.07306325], dtype=float32), array([ 0.06654994,  0.01316884, -0.00158376, -0.08787838], dtype=float32), array([-0.02626142, -0.026693  ,  0.08190791,  0.07248668, -0.06866279,\n",
      "        0.11539896,  0.01591826, -0.03977325, -0.03792392, -0.12736404,\n",
      "        0.04455052, -0.03238317, -0.08049607], dtype=float32)]\n"
     ]
    },
    {
     "data": {
      "image/png": "[encoded data removed]",
      "text/plain": [
       "<Figure size 640x480 with 3 Axes>"
      ]
     },
     "metadata": {},
     "output_type": "display_data"
    }
   ],
   "source": [
    "# Inspect final category embeddings\n",
    "print(\"Final category embeddings:\")\n",
    "final_embeddings = [x.numpy().copy().squeeze() for x in local_implementation.preprocess_model.embeddings]\n",
    "print(final_embeddings)\n",
    "print(\"Change in category embeddings:\")\n",
    "delta = [(x-y) for x, y in zip(final_embeddings, initial_embeddings)]\n",
    "print(delta)\n",
    "# Boxplot for each embedding\n",
    "# Shared x axis three horizontal plots\n",
    "# tight_layout() to prevent overlap\n",
    "fig, axs = plt.subplots(3, 1, sharex=True, tight_layout=True)\n",
    "\n",
    "# Plot initial embeddings\n",
    "axs[0].boxplot([x for x in initial_embeddings])\n",
    "axs[0].set_title(\"Initial embeddings\")\n",
    "# Final embeddings\n",
    "axs[1].boxplot([x for x in final_embeddings])\n",
    "axs[1].set_title(\"Final embeddings\")\n",
    "# Change in embeddings\n",
    "axs[2].boxplot([x for x in delta])\n",
    "axs[2].set_title(\"Change in embeddings\")\n",
    "pass"
   ]
  },
  {
   "cell_type": "code",
   "execution_count": 10,
   "metadata": {},
   "outputs": [
    {
     "data": {
      "text/plain": [
       "<matplotlib.legend.Legend at 0x7f51e0d42520>"
      ]
     },
     "execution_count": 10,
     "metadata": {},
     "output_type": "execute_result"
    },
    {
     "data": {
      "image/png": "[encoded data removed]",
      "text/plain": [
       "<Figure size 1000x1000 with 2 Axes>"
      ]
     },
     "metadata": {},
     "output_type": "display_data"
    }
   ],
   "source": [
    "# Plot history loss and RMSE for training and validation set; train solid line, validation dashed line\n",
    "fig, (top_ax) = plt.subplots(1,1, figsize=(10, 10), sharex=True)\n",
    "\n",
    "hist = local_implementation.history.history\n",
    "\n",
    "top_ax.plot(hist['loss'], label='train_loss', c='b')\n",
    "second_ax = top_ax.twinx()\n",
    "# Plot precision and recall on second axis in orange and red respectively\n",
    "second_ax.plot(hist['accuracy'], label='train_accuracy', linestyle='--', c='b')\n",
    "second_ax.plot(hist['val_accuracy'], label='val_accuracy', linestyle='--', c='orange')\n",
    "top_ax.set_ylabel('loss')\n",
    "second_ax.set_ylabel('Accuracy')\n",
    "# Merge top ax legend entries\n",
    "handles, labels = top_ax.get_legend_handles_labels()\n",
    "handles2, labels2 = second_ax.get_legend_handles_labels()\n",
    "top_ax.legend(handles + handles2, labels + labels2)"
   ]
  },
  {
   "cell_type": "code",
   "execution_count": 21,
   "metadata": {},
   "outputs": [
    {
     "name": "stdout",
     "output_type": "stream",
     "text": [
      "244/244 [==============================] - 15s 59ms/step - loss: 0.0000e+00 - accuracy: 0.5002\n"
     ]
    },
    {
     "data": {
      "text/plain": [
       "[0.0, 0.5001530647277832]"
      ]
     },
     "execution_count": 21,
     "metadata": {},
     "output_type": "execute_result"
    }
   ],
   "source": [
    "# Evaluate model on test set\n",
    "local_implementation.evaluate(test_dataset)"
   ]
  },
  {
   "cell_type": "code",
   "execution_count": 15,
   "metadata": {},
   "outputs": [
    {
     "name": "stdout",
     "output_type": "stream",
     "text": [
      "Column:  0 Embedding shape:  4\n",
      "Unique values:  [1 2 3 4]\n",
      "Number of unique values:  4\n",
      "Column:  1 Embedding shape:  13\n",
      "Unique values:  [ 1  2  3  4  5  6  7  8  9 10 11 12 13]\n",
      "Number of unique values:  13\n",
      "Column:  2 Embedding shape:  4\n",
      "Unique values:  [1 2 3 4]\n",
      "Number of unique values:  4\n",
      "Column:  3 Embedding shape:  13\n",
      "Unique values:  [ 1  2  3  4  5  6  7  8  9 10 11 12 13]\n",
      "Number of unique values:  13\n",
      "Column:  4 Embedding shape:  4\n",
      "Unique values:  [1 2 3 4]\n",
      "Number of unique values:  4\n",
      "Column:  5 Embedding shape:  13\n",
      "Unique values:  [ 1  2  3  4  5  6  7  8  9 10 11 12 13]\n",
      "Number of unique values:  13\n",
      "Column:  6 Embedding shape:  4\n",
      "Unique values:  [1 2 3 4]\n",
      "Number of unique values:  4\n",
      "Column:  7 Embedding shape:  13\n",
      "Unique values:  [ 1  2  3  4  5  6  7  8  9 10 11 12 13]\n",
      "Number of unique values:  13\n",
      "Column:  8 Embedding shape:  4\n",
      "Unique values:  [1 2 3 4]\n",
      "Number of unique values:  4\n",
      "Column:  9 Embedding shape:  13\n",
      "Unique values:  [ 1  2  3  4  5  6  7  8  9 10 11 12 13]\n",
      "Number of unique values:  13\n"
     ]
    }
   ],
   "source": [
    "# Find X_test values that dont fit embedding shapes\n",
    "for col_idx in range(X_test.shape[1]):\n",
    "    col = X_test[:, col_idx]\n",
    "    # Unique values in column\n",
    "    unique_vals = np.unique(col)\n",
    "    num_unique_vals = len(unique_vals)\n",
    "\n",
    "    # Find values that dont fit embedding shapes\n",
    "    relevant_embedding = local_implementation.preprocess_model.embeddings[col_idx]\n",
    "    embedding_shape = relevant_embedding.shape[0]\n",
    "    print(\"Column: \", col_idx, \"Embedding shape: \", embedding_shape)\n",
    "    print(\"Unique values: \", unique_vals)\n",
    "    print(\"Number of unique values: \", num_unique_vals)\n",
    "    assert num_unique_vals <= embedding_shape, \"Number of unique values in column exceeds embedding shape\""
   ]
  },
  {
   "cell_type": "code",
   "execution_count": null,
   "metadata": {},
   "outputs": [],
   "source": []
  }
 ],
 "metadata": {
  "kernelspec": {
   "display_name": "tabnet",
   "language": "python",
   "name": "tabnet"
  },
  "language_info": {
   "codemirror_mode": {
    "name": "ipython",
    "version": 3
   },
   "file_extension": ".py",
   "mimetype": "text/x-python",
   "name": "python",
   "nbconvert_exporter": "python",
   "pygments_lexer": "ipython3",
   "version": "3.9.16"
  },
  "orig_nbformat": 4
 },
 "nbformat": 4,
 "nbformat_minor": 2
}
