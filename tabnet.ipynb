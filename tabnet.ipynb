{
 "cells": [
  {
   "cell_type": "code",
   "execution_count": 1,
   "metadata": {},
   "outputs": [],
   "source": [
    "import tensorflow as tf\n",
    "import matplotlib.pyplot as plt\n",
    "import numpy as np\n",
    "import pandas as pd\n",
    "from sklearn.model_selection import train_test_split"
   ]
  },
  {
   "cell_type": "code",
   "execution_count": 2,
   "metadata": {},
   "outputs": [],
   "source": [
    "# Import common tensorflow layers and activations\n",
    "from tensorflow.keras.layers import Dense, Dropout, BatchNormalization, Layer\n",
    "from tensorflow.keras.layers import Lambda, Multiply, Add \n",
    "from tensorflow.keras.activations import relu, sigmoid, softmax\n",
    "from tensorflow.keras import Model\n",
    "from tensorflow.keras import Sequential\n",
    "from tensorflow.keras import Input"
   ]
  },
  {
   "cell_type": "code",
   "execution_count": 3,
   "metadata": {},
   "outputs": [],
   "source": [
    "# Sparsemax activation function implemented with tensorflow ops\n",
    "# https://arxiv.org/pdf/1602.02068.pdf\n",
    "# Copied from https://github.com/tensorflow/addons/blob/b2dafcfa74c5de268b8a5c53813bc0b89cadf386/tensorflow_addons/activations/sparsemax.py#L96\n",
    "\n",
    "def sparsemax(logits, axis=-1):\n",
    "    def _compute_2d_sparsemax(logits, axis=-1):\n",
    "        \"\"\"Performs the sparsemax operation when axis=-1.\"\"\"\n",
    "        if axis != -1:\n",
    "            raise ValueError(\"Only axis=-1 is supported.\")\n",
    "\n",
    "        shape_op = tf.shape(logits)\n",
    "        obs = tf.math.reduce_prod(shape_op[:-1])\n",
    "        dims = shape_op[-1]\n",
    "\n",
    "        # In the paper, they call the logits z.\n",
    "        # The mean(logits) can be substracted from logits to make the algorithm\n",
    "        # more numerically stable. the instability in this algorithm comes mostly\n",
    "        # from the z_cumsum. Substacting the mean will cause z_cumsum to be close\n",
    "        # to zero. However, in practise the numerical instability issues are very\n",
    "        # minor and substacting the mean causes extra issues with inf and nan\n",
    "        # input.\n",
    "        # Reshape to [obs, dims] as it is almost free and means the remanining\n",
    "        # code doesn't need to worry about the rank.\n",
    "        z = tf.reshape(logits, [obs, dims])\n",
    "\n",
    "        # sort z\n",
    "        z_sorted, _ = tf.nn.top_k(z, k=dims)\n",
    "\n",
    "        # calculate k(z)\n",
    "        z_cumsum = tf.math.cumsum(z_sorted, axis=-1)\n",
    "        k = tf.range(1, tf.cast(dims, logits.dtype) + 1, dtype=logits.dtype)\n",
    "        z_check = 1 + k * z_sorted > z_cumsum\n",
    "        # because the z_check vector is always [1,1,...1,0,0,...0] finding the\n",
    "        # (index + 1) of the last `1` is the same as just summing the number of 1.\n",
    "        k_z = tf.math.reduce_sum(tf.cast(z_check, tf.int32), axis=-1)\n",
    "\n",
    "        # calculate tau(z)\n",
    "        # If there are inf values or all values are -inf, the k_z will be zero,\n",
    "        # this is mathematically invalid and will also cause the gather_nd to fail.\n",
    "        # Prevent this issue for now by setting k_z = 1 if k_z = 0, this is then\n",
    "        # fixed later (see p_safe) by returning p = nan. This results in the same\n",
    "        # behavior as softmax.\n",
    "        k_z_safe = tf.math.maximum(k_z, 1)\n",
    "        indices = tf.stack([tf.range(0, obs), tf.reshape(k_z_safe, [-1]) - 1], axis=1)\n",
    "        tau_sum = tf.gather_nd(z_cumsum, indices)\n",
    "        tau_z = (tau_sum - 1) / tf.cast(k_z, logits.dtype)\n",
    "\n",
    "        # calculate p\n",
    "        p = tf.math.maximum(tf.cast(0, logits.dtype), z - tf.expand_dims(tau_z, -1))\n",
    "        # If k_z = 0 or if z = nan, then the input is invalid\n",
    "        p_safe = tf.where(\n",
    "            tf.expand_dims(\n",
    "                tf.math.logical_or(tf.math.equal(k_z, 0), tf.math.is_nan(z_cumsum[:, -1])),\n",
    "                axis=-1,\n",
    "            ),\n",
    "            tf.fill([obs, dims], tf.cast(float(\"nan\"), logits.dtype)),\n",
    "            p,\n",
    "        )\n",
    "\n",
    "        # Reshape back to original size\n",
    "        p_safe = tf.reshape(p_safe, shape_op)\n",
    "        return p_safe\n",
    "    return Lambda(lambda x: _compute_2d_sparsemax(x))(logits)"
   ]
  },
  {
   "cell_type": "code",
   "execution_count": 4,
   "metadata": {},
   "outputs": [
    {
     "name": "stderr",
     "output_type": "stream",
     "text": [
      "2023-04-26 15:12:43.699167: E tensorflow/stream_executor/cuda/cuda_driver.cc:271] failed call to cuInit: CUDA_ERROR_NO_DEVICE: no CUDA-capable device is detected\n",
      "2023-04-26 15:12:43.699192: I tensorflow/stream_executor/cuda/cuda_diagnostics.cc:156] kernel driver does not appear to be running on this host (al3615): /proc/driver/nvidia/version does not exist\n",
      "2023-04-26 15:12:43.699844: I tensorflow/core/platform/cpu_feature_guard.cc:142] This TensorFlow binary is optimized with oneAPI Deep Neural Network Library (oneDNN) to use the following CPU instructions in performance-critical operations:  AVX2 FMA\n",
      "To enable them in other operations, rebuild TensorFlow with the appropriate compiler flags.\n"
     ]
    },
    {
     "data": {
      "text/plain": [
       "(<tf.Tensor: shape=(5, 10), dtype=float32, numpy=\n",
       " array([[3., 3., 3., 3., 4., 2., 3., 0., 3., 2.],\n",
       "        [3., 3., 2., 3., 2., 2., 3., 2., 3., 1.],\n",
       "        [3., 1., 2., 3., 3., 2., 3., 3., 3., 4.],\n",
       "        [3., 3., 3., 4., 0., 3., 3., 2., 3., 2.],\n",
       "        [5., 1., 3., 2., 1., 3., 3., 3., 2., 1.]], dtype=float32)>,\n",
       " <tf.Tensor: shape=(5, 10), dtype=float32, numpy=\n",
       " array([[0.        , 0.        , 0.        , 0.        , 1.        ,\n",
       "         0.        , 0.        , 0.        , 0.        , 0.        ],\n",
       "        [0.20000005, 0.20000005, 0.        , 0.20000005, 0.        ,\n",
       "         0.        , 0.20000005, 0.        , 0.20000005, 0.        ],\n",
       "        [0.        , 0.        , 0.        , 0.        , 0.        ,\n",
       "         0.        , 0.        , 0.        , 0.        , 1.        ],\n",
       "        [0.        , 0.        , 0.        , 1.        , 0.        ,\n",
       "         0.        , 0.        , 0.        , 0.        , 0.        ],\n",
       "        [1.        , 0.        , 0.        , 0.        , 0.        ,\n",
       "         0.        , 0.        , 0.        , 0.        , 0.        ]],\n",
       "       dtype=float32)>)"
      ]
     },
     "execution_count": 4,
     "metadata": {},
     "output_type": "execute_result"
    }
   ],
   "source": [
    "x = tf.random.stateless_binomial(shape=(5, 10), seed=(1, 2), counts=5, probs=0.5)\n",
    "x = tf.cast(x, \"float32\")\n",
    "\n",
    "x, sparsemax(x)"
   ]
  },
  {
   "cell_type": "code",
   "execution_count": 18,
   "metadata": {},
   "outputs": [],
   "source": [
    "class GLULayer(tf.keras.layers.Layer):\n",
    "    def __init__(self, units):\n",
    "        super(GLULayer, self).__init__()\n",
    "        self.forward = None\n",
    "        self.units = units*2\n",
    "        self.dense = Dense(self.units)\n",
    "\n",
    "    def call(self, inputs):\n",
    "        x = self.dense(inputs)\n",
    "        x1, x2 = tf.split(x, 2, axis=-1)\n",
    "        return x1 * sigmoid(x2)"
   ]
  },
  {
   "cell_type": "code",
   "execution_count": 19,
   "metadata": {},
   "outputs": [
    {
     "data": {
      "text/plain": [
       "<tf.Tensor: shape=(1, 10), dtype=float32, numpy=\n",
       "array([[ 0.13757993, -0.1232587 ,  0.14727691, -0.18426265, -0.1705676 ,\n",
       "        -0.04505983, -0.10452721, -0.13740274, -0.4645514 , -0.2833257 ]],\n",
       "      dtype=float32)>"
      ]
     },
     "execution_count": 19,
     "metadata": {},
     "output_type": "execute_result"
    }
   ],
   "source": [
    "# Test Glu Layer on normal data\n",
    "glu = GLULayer(10)\n",
    "x = tf.random.normal((1, 7))\n",
    "y = glu(x)\n",
    "y"
   ]
  },
  {
   "cell_type": "code",
   "execution_count": 20,
   "metadata": {},
   "outputs": [],
   "source": [
    "class SharedFeatureLayer(Layer):\n",
    "    def __init__(self, units, depth=2, *args, **kwargs):\n",
    "        super().__init__(*args, **kwargs)\n",
    "        self.units = units\n",
    "        self.depth = depth\n",
    "        self.built = False\n",
    "\n",
    "    def build(self, input_shape):\n",
    "        if self.built:\n",
    "            return\n",
    "        _in = Input(shape=input_shape[1:])\n",
    "        x = _in\n",
    "        for i in range(self.depth):\n",
    "            y = Dense(self.units)(x)\n",
    "            y = BatchNormalization()(y)\n",
    "            y = GLULayer(self.units)(y)\n",
    "            # Skip first residual connection as input is not guaranteed to be same shape as num units\n",
    "            if i > 0:\n",
    "                x = (x + y)*0.5**0.5\n",
    "            else:\n",
    "                x = y\n",
    "        self.forward = Model(_in, y)\n",
    "        self.built = True\n",
    "    \n",
    "    def call(self, inputs, *args, **kwargs):\n",
    "        return self.forward(inputs)"
   ]
  },
  {
   "cell_type": "code",
   "execution_count": 21,
   "metadata": {},
   "outputs": [
    {
     "data": {
      "text/plain": [
       "<tf.Tensor: shape=(1, 10), dtype=float32, numpy=\n",
       "array([[-0.09102207,  0.14488149,  0.00700665,  0.0552725 ,  0.18168582,\n",
       "         0.08047595, -0.14088759,  0.1189281 ,  0.0391353 ,  0.05947294]],\n",
       "      dtype=float32)>"
      ]
     },
     "execution_count": 21,
     "metadata": {},
     "output_type": "execute_result"
    }
   ],
   "source": [
    "# Test Shared Feature Layer on normal data\n",
    "sfl = SharedFeatureLayer(units=10)\n",
    "x = tf.random.normal((1, 7))\n",
    "y = sfl(x)\n",
    "y"
   ]
  },
  {
   "cell_type": "code",
   "execution_count": 22,
   "metadata": {},
   "outputs": [],
   "source": [
    "class FeatureTransformer(Layer):\n",
    "    def __init__(self, units, shared_layer, depth=2, *args, **kwargs):\n",
    "        super().__init__( *args, **kwargs )\n",
    "        self.units = units\n",
    "        self.shared_layer = shared_layer\n",
    "        self.depth = depth\n",
    "        self.forward = None\n",
    "        self.built = False\n",
    "\n",
    "    def build(self, input_shape):\n",
    "        if self.built:\n",
    "            return\n",
    "        _in = Input(shape=input_shape[1:])\n",
    "        shared_output = self.shared_layer(_in)\n",
    "        x = shared_output\n",
    "        for _ in range(self.depth):\n",
    "            y = Dense(self.units)(x)\n",
    "            y = BatchNormalization()(y)\n",
    "            y = GLULayer(self.units)(y)\n",
    "            x = (x + y)*0.5**0.5\n",
    "        self.forward = Model(_in, x)\n",
    "        self.built = True\n",
    "    \n",
    "    def call(self, data):\n",
    "        return self.forward(data)"
   ]
  },
  {
   "cell_type": "code",
   "execution_count": 23,
   "metadata": {},
   "outputs": [
    {
     "data": {
      "text/plain": [
       "<tf.Tensor: shape=(1, 10), dtype=float32, numpy=\n",
       "array([[-0.08027072, -0.06931344,  0.00639911,  0.07876385, -0.06383782,\n",
       "         0.00524661, -0.03474805,  0.04357746, -0.07774871, -0.03361591]],\n",
       "      dtype=float32)>"
      ]
     },
     "execution_count": 23,
     "metadata": {},
     "output_type": "execute_result"
    }
   ],
   "source": [
    "# test Feature Transformer on normal data\n",
    "sfl = SharedFeatureLayer(units=10)\n",
    "ft = FeatureTransformer(units=10, shared_layer=sfl)\n",
    "x = tf.random.normal((1, 7))\n",
    "y = ft(x)\n",
    "y"
   ]
  },
  {
   "cell_type": "code",
   "execution_count": 24,
   "metadata": {},
   "outputs": [],
   "source": [
    "class AttentiveTransformer(Model):\n",
    "    def __init__(self, units, gamma=1.3, activation=sparsemax, *args, **kwargs):\n",
    "        super().__init__(*args, **kwargs)\n",
    "        self.units = units\n",
    "        self.gamma = tf.constant(gamma, dtype=tf.float32)\n",
    "        self.forward = None\n",
    "        self.activation = activation\n",
    "        self.built = False\n",
    "    \n",
    "    def build(self, input_shape):\n",
    "        # super().build(input_shape)\n",
    "        if self.built:\n",
    "            return\n",
    "        _in = Input(shape=input_shape[1:], name=f\"{self._name}_input\")\n",
    "        x = Dense(self.units, name=f\"{self._name}_dense\")(_in)\n",
    "        x = BatchNormalization(name=f\"{self._name}_BN\")(x)\n",
    "        x = self.activation(x, axis=-1)\n",
    "        self.forward = Model(_in, x)\n",
    "        self.built = True\n",
    "    \n",
    "    def call(self, data):\n",
    "        return self.forward(data)\n",
    "        "
   ]
  },
  {
   "cell_type": "code",
   "execution_count": 47,
   "metadata": {},
   "outputs": [],
   "source": [
    "class TabNet(Model):\n",
    "    def __init__(self, dim_features, dim_attention, dim_output, num_steps=5, gamma=1.5, *args, **kwargs):\n",
    "        super().__init__(*args, **kwargs)\n",
    "        self.num_step = num_steps\n",
    "        self.dim_features = dim_features\n",
    "        self.dim_attention = dim_attention # Currently keep it simple and just have equal attention and pre_output dimensions\n",
    "        self.dim_pre_output = dim_attention\n",
    "        self.dim_output = dim_output\n",
    "        self.gamma = tf.constant(gamma)\n",
    "        self.eps = tf.constant(1e-15)\n",
    "\n",
    "        self.shared_layer = SharedFeatureLayer(units=dim_attention+self.dim_pre_output, depth=2, name=\"shared_feature_layer\")\n",
    "        self.feature_transformers = [FeatureTransformer(units=dim_attention+self.dim_pre_output, shared_layer=self.shared_layer, name=\"init_feature_transformer\")]\n",
    "        self.attention_layers = []\n",
    "\n",
    "        # Define model forward pass\n",
    "\n",
    "        _in = Input(shape=(self.dim_features,), name=\"tabnet_input\")\n",
    "        norm_in = BatchNormalization(name=\"norm_in\")(_in)\n",
    "        \n",
    "\n",
    "        d0, a_i = tf.split(self.feature_transformers[0](norm_in), num_or_size_splits=2, axis=-1)\n",
    "        priors = []\n",
    "        d = tf.zeros_like(d0)\n",
    "        for i in range(num_steps):\n",
    "            new_attention_layer = AttentiveTransformer(units=self.dim_features, name=f\"attention_layer_{i+1}\")\n",
    "            new_feature_layer = FeatureTransformer(units=dim_attention+self.dim_pre_output, shared_layer=self.shared_layer, name=f\"feature_transformer_{i+1}\")\n",
    "\n",
    "            candidate_mask = new_attention_layer(a_i)\n",
    "            for prior in priors:\n",
    "                candidate_mask *= (self.gamma-prior)\n",
    "            priors.append(candidate_mask)\n",
    "\n",
    "            masked_input = tf.math.multiply(norm_in, candidate_mask)\n",
    "\n",
    "            new_features = new_feature_layer(masked_input)\n",
    "            d_i, a_i = tf.split(new_features, num_or_size_splits=2, axis=-1)\n",
    "            d = d + relu(d_i)\n",
    "\n",
    "            self.attention_layers.append(new_attention_layer)\n",
    "            self.feature_transformers.append(new_feature_layer)\n",
    "        _out = Dense(dim_output)(d)\n",
    "        self.forward = Model(_in, _out)\n",
    "    \n",
    "    def call(self, data):\n",
    "        return self.forward(data)\n"
   ]
  },
  {
   "cell_type": "code",
   "execution_count": 48,
   "metadata": {},
   "outputs": [],
   "source": [
    "BATCH_SIZE = 16384\n",
    "\n",
    "# Load telematics data\n",
    "telematics = pd.read_csv(\"./telematics_syn-032021.csv\")\n",
    "response = 'AMT_Claim'\n",
    "outputs = ['NB_Claim']\n",
    "# outputs = telematics.pop([\"NB_Claim\",\"AMT_Claim\"])\n",
    "# response = outputs['AMT_Claim']\n",
    "\n",
    "# Split data into train and test\n",
    "data_train, data_test = train_test_split(telematics, test_size=0.3, random_state=42)\n",
    "data_val, data_test = train_test_split(data_test, test_size=0.33, random_state=42)\n",
    "\n",
    "# Mean target encode categorical variables\n",
    "aggregate_fn = np.mean\n",
    "for col in ['Marital', 'Insured.sex', 'Car.use', 'Region', 'Territory']:\n",
    "    encoding = data_train.groupby(col)[response].aggregate(aggregate_fn)\n",
    "    data_train[col] = data_train[col].map(encoding)\n",
    "    data_val[col] = data_val[col].map(encoding)\n",
    "    data_test[col] = data_test[col].map(encoding)\n",
    "\n",
    "# Split into X and y\n",
    "X_train = data_train.drop(outputs, axis=1)\n",
    "y_train = data_train[response]\n",
    "X_val = data_val.drop(outputs, axis=1)\n",
    "y_val = data_val[response]\n",
    "X_test = data_test.drop(outputs, axis=1)\n",
    "y_test = data_test[response]\n",
    "\n",
    "# Make tensorflow datasets\n",
    "train_dataset = tf.data.Dataset.from_tensor_slices((X_train.values, y_train.values))\n",
    "train_dataset = train_dataset.shuffle(buffer_size=4048).batch(BATCH_SIZE)\n",
    "val_dataset = tf.data.Dataset.from_tensor_slices((X_val.values, y_val.values))\n",
    "val_dataset = val_dataset.batch(BATCH_SIZE)\n",
    "test_dataset = tf.data.Dataset.from_tensor_slices((X_test.values, y_test.values))\n",
    "test_dataset = test_dataset.batch(BATCH_SIZE)"
   ]
  },
  {
   "cell_type": "code",
   "execution_count": 49,
   "metadata": {},
   "outputs": [],
   "source": [
    "tabnet = TabNet(dim_features=X_train.shape[1], dim_attention=64, dim_output=1)\n",
    "\n",
    "tabnet.compile( \n",
    "    optimizer=tf.keras.optimizers.Adam(learning_rate=0.01), \n",
    "    loss=tf.keras.losses.MeanSquaredError(),\n",
    "    metrics=[tf.keras.metrics.RootMeanSquaredError()]\n",
    ")\n",
    "tabnet.build(X_train.sample(1).shape)"
   ]
  },
  {
   "cell_type": "code",
   "execution_count": 50,
   "metadata": {},
   "outputs": [
    {
     "name": "stdout",
     "output_type": "stream",
     "text": [
      "Model: \"tab_net_6\"\n",
      "_________________________________________________________________\n",
      "Layer (type)                 Output Shape              Param #   \n",
      "=================================================================\n",
      "shared_feature_layer (Shared (None, 128)               90240     \n",
      "_________________________________________________________________\n",
      "init_feature_transformer (Fe (None, 128)               190336    \n",
      "_________________________________________________________________\n",
      "feature_transformer_1 (Featu (None, 128)               190336    \n",
      "_________________________________________________________________\n",
      "feature_transformer_2 (Featu (None, 128)               190336    \n",
      "_________________________________________________________________\n",
      "feature_transformer_3 (Featu (None, 128)               190336    \n",
      "_________________________________________________________________\n",
      "feature_transformer_4 (Featu (None, 128)               190336    \n",
      "_________________________________________________________________\n",
      "feature_transformer_5 (Featu (None, 128)               190336    \n",
      "_________________________________________________________________\n",
      "attention_layer_1 (Attentive (None, 51)                3519      \n",
      "_________________________________________________________________\n",
      "attention_layer_2 (Attentive (None, 51)                3519      \n",
      "_________________________________________________________________\n",
      "attention_layer_3 (Attentive (None, 51)                3519      \n",
      "_________________________________________________________________\n",
      "attention_layer_4 (Attentive (None, 51)                3519      \n",
      "_________________________________________________________________\n",
      "attention_layer_5 (Attentive (None, 51)                3519      \n",
      "_________________________________________________________________\n",
      "model_10 (Functional)        (None, 1)                 708680    \n",
      "=================================================================\n",
      "Total params: 708,680\n",
      "Trainable params: 704,484\n",
      "Non-trainable params: 4,196\n",
      "_________________________________________________________________\n"
     ]
    }
   ],
   "source": [
    "tabnet.summary()"
   ]
  },
  {
   "cell_type": "code",
   "execution_count": 51,
   "metadata": {},
   "outputs": [
    {
     "name": "stdout",
     "output_type": "stream",
     "text": [
      "Epoch 1/10\n",
      "5/5 [==============================] - 17s 2s/step - loss: 1750685.3750 - root_mean_squared_error: 1323.1346 - val_loss: 1287469.3750 - val_root_mean_squared_error: 1134.6671\n",
      "Epoch 2/10\n",
      "5/5 [==============================] - 8s 2s/step - loss: 1717945.3750 - root_mean_squared_error: 1310.7041 - val_loss: 1265386.0000 - val_root_mean_squared_error: 1124.8938\n",
      "Epoch 3/10\n",
      "5/5 [==============================] - 8s 2s/step - loss: 1630128.6250 - root_mean_squared_error: 1276.7649 - val_loss: 7737629.5000 - val_root_mean_squared_error: 2781.6594\n",
      "Epoch 4/10\n",
      "5/5 [==============================] - 9s 2s/step - loss: 1473013.3750 - root_mean_squared_error: 1213.6776 - val_loss: 1006835.3125 - val_root_mean_squared_error: 1003.4119\n",
      "Epoch 5/10\n",
      "5/5 [==============================] - 10s 2s/step - loss: 1263832.2500 - root_mean_squared_error: 1124.2029 - val_loss: 3954347776.0000 - val_root_mean_squared_error: 62883.6055\n",
      "Epoch 6/10\n",
      "5/5 [==============================] - 9s 2s/step - loss: 992645.5000 - root_mean_squared_error: 996.3160 - val_loss: 4065341.5000 - val_root_mean_squared_error: 2016.2692\n",
      "Epoch 7/10\n",
      "5/5 [==============================] - 8s 2s/step - loss: 686396.9375 - root_mean_squared_error: 828.4908 - val_loss: 10313557.0000 - val_root_mean_squared_error: 3211.4727\n",
      "Epoch 8/10\n",
      "5/5 [==============================] - 8s 2s/step - loss: 279682.1562 - root_mean_squared_error: 528.8499 - val_loss: 15092683.0000 - val_root_mean_squared_error: 3884.9302\n",
      "Epoch 9/10\n",
      "5/5 [==============================] - 8s 2s/step - loss: 262851.6250 - root_mean_squared_error: 512.6906 - val_loss: 47441352.0000 - val_root_mean_squared_error: 6887.7681\n"
     ]
    }
   ],
   "source": [
    "early_stopping = tf.keras.callbacks.EarlyStopping(patience=5, restore_best_weights=True)\n",
    "history = tabnet.fit(train_dataset, epochs=10, validation_data=val_dataset, callbacks=[early_stopping])"
   ]
  },
  {
   "cell_type": "code",
   "execution_count": 52,
   "metadata": {},
   "outputs": [
    {
     "data": {
      "image/png": "[encoded data removed]",
      "text/plain": [
       "<Figure size 640x480 with 1 Axes>"
      ]
     },
     "metadata": {},
     "output_type": "display_data"
    }
   ],
   "source": [
    "# Plot history for training and validation set\n",
    "plt.plot(history.history['root_mean_squared_error'], label='train')\n",
    "plt.plot(history.history['val_root_mean_squared_error'], label='validation')\n",
    "plt.legend()\n",
    "plt.show()"
   ]
  },
  {
   "cell_type": "code",
   "execution_count": 53,
   "metadata": {},
   "outputs": [
    {
     "name": "stdout",
     "output_type": "stream",
     "text": [
      "1/1 [==============================] - 0s 350ms/step - loss: 726590.8750 - root_mean_squared_error: 852.4030\n"
     ]
    },
    {
     "data": {
      "text/plain": [
       "[726590.875, 852.4030151367188]"
      ]
     },
     "execution_count": 53,
     "metadata": {},
     "output_type": "execute_result"
    }
   ],
   "source": [
    "# Evaluate model on test set\n",
    "tabnet.evaluate(test_dataset)"
   ]
  },
  {
   "cell_type": "code",
   "execution_count": null,
   "metadata": {},
   "outputs": [],
   "source": []
  }
 ],
 "metadata": {
  "kernelspec": {
   "display_name": "tabnet",
   "language": "python",
   "name": "tabnet"
  },
  "language_info": {
   "codemirror_mode": {
    "name": "ipython",
    "version": 3
   },
   "file_extension": ".py",
   "mimetype": "text/x-python",
   "name": "python",
   "nbconvert_exporter": "python",
   "pygments_lexer": "ipython3",
   "version": "3.9.16"
  },
  "orig_nbformat": 4
 },
 "nbformat": 4,
 "nbformat_minor": 2
}
