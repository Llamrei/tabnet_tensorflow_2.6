{
 "cells": [
  {
   "cell_type": "code",
   "execution_count": 1,
   "metadata": {},
   "outputs": [],
   "source": [
    "import tensorflow as tf\n",
    "from tensorflow.keras import Input, Sequential, Model\n",
    "from tensorflow.keras.layers import Dense"
   ]
  },
  {
   "cell_type": "code",
   "execution_count": 81,
   "metadata": {},
   "outputs": [],
   "source": [
    "NLOOPS=6"
   ]
  },
  {
   "cell_type": "code",
   "execution_count": 71,
   "metadata": {},
   "outputs": [],
   "source": [
    "N_loops = NLOOPS"
   ]
  },
  {
   "attachments": {},
   "cell_type": "markdown",
   "metadata": {},
   "source": [
    "# Static looping - vanilla list"
   ]
  },
  {
   "attachments": {},
   "cell_type": "markdown",
   "metadata": {},
   "source": [
    "## Comparing Add layer vs lambda op"
   ]
  },
  {
   "cell_type": "code",
   "execution_count": 72,
   "metadata": {},
   "outputs": [
    {
     "name": "stdout",
     "output_type": "stream",
     "text": [
      "Model: \"model_30\"\n",
      "__________________________________________________________________________________________________\n",
      "Layer (type)                    Output Shape         Param #     Connected to                     \n",
      "==================================================================================================\n",
      "vanilla_list_static (InputLayer [(None, 5)]          0                                            \n",
      "__________________________________________________________________________________________________\n",
      "0 (Dense)                       (None, 2)            12          vanilla_list_static[0][0]        \n",
      "__________________________________________________________________________________________________\n",
      "1 (Dense)                       (None, 2)            6           0[0][0]                          \n",
      "__________________________________________________________________________________________________\n",
      "tf.math.add_640 (TFOpLambda)    (None, 2)            0           1[0][0]                          \n",
      "                                                                 0[0][0]                          \n",
      "__________________________________________________________________________________________________\n",
      "2 (Dense)                       (None, 2)            6           tf.math.add_640[0][0]            \n",
      "__________________________________________________________________________________________________\n",
      "tf.math.add_641 (TFOpLambda)    (None, 2)            0           2[0][0]                          \n",
      "                                                                 0[0][0]                          \n",
      "__________________________________________________________________________________________________\n",
      "tf.math.add_642 (TFOpLambda)    (None, 2)            0           tf.math.add_641[0][0]            \n",
      "                                                                 tf.math.add_640[0][0]            \n",
      "__________________________________________________________________________________________________\n",
      "3 (Dense)                       (None, 2)            6           tf.math.add_642[0][0]            \n",
      "__________________________________________________________________________________________________\n",
      "tf.math.add_643 (TFOpLambda)    (None, 2)            0           3[0][0]                          \n",
      "                                                                 0[0][0]                          \n",
      "__________________________________________________________________________________________________\n",
      "tf.math.add_644 (TFOpLambda)    (None, 2)            0           tf.math.add_643[0][0]            \n",
      "                                                                 tf.math.add_640[0][0]            \n",
      "__________________________________________________________________________________________________\n",
      "tf.math.add_645 (TFOpLambda)    (None, 2)            0           tf.math.add_644[0][0]            \n",
      "                                                                 tf.math.add_642[0][0]            \n",
      "__________________________________________________________________________________________________\n",
      "4 (Dense)                       (None, 2)            6           tf.math.add_645[0][0]            \n",
      "__________________________________________________________________________________________________\n",
      "tf.math.add_646 (TFOpLambda)    (None, 2)            0           4[0][0]                          \n",
      "                                                                 0[0][0]                          \n",
      "__________________________________________________________________________________________________\n",
      "tf.math.add_647 (TFOpLambda)    (None, 2)            0           tf.math.add_646[0][0]            \n",
      "                                                                 tf.math.add_640[0][0]            \n",
      "__________________________________________________________________________________________________\n",
      "tf.math.add_648 (TFOpLambda)    (None, 2)            0           tf.math.add_647[0][0]            \n",
      "                                                                 tf.math.add_642[0][0]            \n",
      "__________________________________________________________________________________________________\n",
      "tf.math.add_649 (TFOpLambda)    (None, 2)            0           tf.math.add_648[0][0]            \n",
      "                                                                 tf.math.add_645[0][0]            \n",
      "__________________________________________________________________________________________________\n",
      "5 (Dense)                       (None, 2)            6           tf.math.add_649[0][0]            \n",
      "__________________________________________________________________________________________________\n",
      "tf.math.add_650 (TFOpLambda)    (None, 2)            0           5[0][0]                          \n",
      "                                                                 0[0][0]                          \n",
      "__________________________________________________________________________________________________\n",
      "tf.math.add_651 (TFOpLambda)    (None, 2)            0           tf.math.add_650[0][0]            \n",
      "                                                                 tf.math.add_640[0][0]            \n",
      "__________________________________________________________________________________________________\n",
      "tf.math.add_652 (TFOpLambda)    (None, 2)            0           tf.math.add_651[0][0]            \n",
      "                                                                 tf.math.add_642[0][0]            \n",
      "__________________________________________________________________________________________________\n",
      "tf.math.add_653 (TFOpLambda)    (None, 2)            0           tf.math.add_652[0][0]            \n",
      "                                                                 tf.math.add_645[0][0]            \n",
      "__________________________________________________________________________________________________\n",
      "tf.math.add_654 (TFOpLambda)    (None, 2)            0           tf.math.add_653[0][0]            \n",
      "                                                                 tf.math.add_649[0][0]            \n",
      "==================================================================================================\n",
      "Total params: 42\n",
      "Trainable params: 42\n",
      "Non-trainable params: 0\n",
      "__________________________________________________________________________________________________\n"
     ]
    }
   ],
   "source": [
    "tf.random.set_seed(1)\n",
    "\n",
    "_in = Input((5,), name=\"vanilla_list_static\")\n",
    "x = _in\n",
    "lst = []\n",
    "# static looping\n",
    "for i in range(N_loops):\n",
    "    y = Dense(2, name=f\"{i}\")(x)\n",
    "    for j, z in enumerate(lst):\n",
    "        # y = tf.keras.layers.Add(name=f\"add_{i}_{j}\")([y, z])\n",
    "        y = tf.math.add(y,z,name=f\"add_{i}_{j}\")\n",
    "    lst.append(y)\n",
    "    x = y\n",
    "model = Model(_in, x)\n",
    "model.build((3,))\n",
    "model.summary()\n",
    "# tf.keras.utils.plot_model(model, expand_nested=True)"
   ]
  },
  {
   "cell_type": "code",
   "execution_count": 73,
   "metadata": {},
   "outputs": [
    {
     "name": "stdout",
     "output_type": "stream",
     "text": [
      "3.85 ms ± 221 µs per loop (mean ± std. dev. of 20 runs, 100 loops each)\n"
     ]
    }
   ],
   "source": [
    "%%timeit -r 20\n",
    "model(tf.ones((1,5)))"
   ]
  },
  {
   "cell_type": "code",
   "execution_count": 74,
   "metadata": {},
   "outputs": [
    {
     "name": "stdout",
     "output_type": "stream",
     "text": [
      "Model: \"model_31\"\n",
      "__________________________________________________________________________________________________\n",
      "Layer (type)                    Output Shape         Param #     Connected to                     \n",
      "==================================================================================================\n",
      "vanilla_list_static (InputLayer [(None, 5)]          0                                            \n",
      "__________________________________________________________________________________________________\n",
      "0 (Dense)                       (None, 2)            12          vanilla_list_static[0][0]        \n",
      "__________________________________________________________________________________________________\n",
      "1 (Dense)                       (None, 2)            6           0[0][0]                          \n",
      "__________________________________________________________________________________________________\n",
      "add_1_0 (Add)                   (None, 2)            0           1[0][0]                          \n",
      "                                                                 0[0][0]                          \n",
      "__________________________________________________________________________________________________\n",
      "2 (Dense)                       (None, 2)            6           add_1_0[0][0]                    \n",
      "__________________________________________________________________________________________________\n",
      "add_2_0 (Add)                   (None, 2)            0           2[0][0]                          \n",
      "                                                                 0[0][0]                          \n",
      "__________________________________________________________________________________________________\n",
      "add_2_1 (Add)                   (None, 2)            0           add_2_0[0][0]                    \n",
      "                                                                 add_1_0[0][0]                    \n",
      "__________________________________________________________________________________________________\n",
      "3 (Dense)                       (None, 2)            6           add_2_1[0][0]                    \n",
      "__________________________________________________________________________________________________\n",
      "add_3_0 (Add)                   (None, 2)            0           3[0][0]                          \n",
      "                                                                 0[0][0]                          \n",
      "__________________________________________________________________________________________________\n",
      "add_3_1 (Add)                   (None, 2)            0           add_3_0[0][0]                    \n",
      "                                                                 add_1_0[0][0]                    \n",
      "__________________________________________________________________________________________________\n",
      "add_3_2 (Add)                   (None, 2)            0           add_3_1[0][0]                    \n",
      "                                                                 add_2_1[0][0]                    \n",
      "__________________________________________________________________________________________________\n",
      "4 (Dense)                       (None, 2)            6           add_3_2[0][0]                    \n",
      "__________________________________________________________________________________________________\n",
      "add_4_0 (Add)                   (None, 2)            0           4[0][0]                          \n",
      "                                                                 0[0][0]                          \n",
      "__________________________________________________________________________________________________\n",
      "add_4_1 (Add)                   (None, 2)            0           add_4_0[0][0]                    \n",
      "                                                                 add_1_0[0][0]                    \n",
      "__________________________________________________________________________________________________\n",
      "add_4_2 (Add)                   (None, 2)            0           add_4_1[0][0]                    \n",
      "                                                                 add_2_1[0][0]                    \n",
      "__________________________________________________________________________________________________\n",
      "add_4_3 (Add)                   (None, 2)            0           add_4_2[0][0]                    \n",
      "                                                                 add_3_2[0][0]                    \n",
      "__________________________________________________________________________________________________\n",
      "5 (Dense)                       (None, 2)            6           add_4_3[0][0]                    \n",
      "__________________________________________________________________________________________________\n",
      "add_5_0 (Add)                   (None, 2)            0           5[0][0]                          \n",
      "                                                                 0[0][0]                          \n",
      "__________________________________________________________________________________________________\n",
      "add_5_1 (Add)                   (None, 2)            0           add_5_0[0][0]                    \n",
      "                                                                 add_1_0[0][0]                    \n",
      "__________________________________________________________________________________________________\n",
      "add_5_2 (Add)                   (None, 2)            0           add_5_1[0][0]                    \n",
      "                                                                 add_2_1[0][0]                    \n",
      "__________________________________________________________________________________________________\n",
      "add_5_3 (Add)                   (None, 2)            0           add_5_2[0][0]                    \n",
      "                                                                 add_3_2[0][0]                    \n",
      "__________________________________________________________________________________________________\n",
      "add_5_4 (Add)                   (None, 2)            0           add_5_3[0][0]                    \n",
      "                                                                 add_4_3[0][0]                    \n",
      "==================================================================================================\n",
      "Total params: 42\n",
      "Trainable params: 42\n",
      "Non-trainable params: 0\n",
      "__________________________________________________________________________________________________\n"
     ]
    }
   ],
   "source": [
    "tf.random.set_seed(1)\n",
    "\n",
    "_in = Input((5,), name=\"vanilla_list_static\")\n",
    "x = _in\n",
    "lst = []\n",
    "# dynamic looping\n",
    "for i in range(N_loops):\n",
    "    y = Dense(2, name=f\"{i}\")(x)\n",
    "    for j, z in enumerate(lst):\n",
    "        y = tf.keras.layers.Add(name=f\"add_{i}_{j}\")([y, z])\n",
    "        # y = tf.math.add(y,z,name=f\"add_{i}_{j}\")\n",
    "    lst.append(y)\n",
    "    x = y\n",
    "model = Model(_in, x)\n",
    "model.build((3,))\n",
    "\n",
    "model.summary()\n",
    "# tf.keras.utils.plot_model(model, expand_nested=True)"
   ]
  },
  {
   "cell_type": "code",
   "execution_count": 75,
   "metadata": {},
   "outputs": [
    {
     "name": "stdout",
     "output_type": "stream",
     "text": [
      "4.15 ms ± 792 µs per loop (mean ± std. dev. of 20 runs, 100 loops each)\n"
     ]
    }
   ],
   "source": [
    "%%timeit -r 20\n",
    "model(tf.ones((1,5)))"
   ]
  },
  {
   "attachments": {},
   "cell_type": "markdown",
   "metadata": {},
   "source": [
    "# Dynamic Looping - vanilla list"
   ]
  },
  {
   "attachments": {},
   "cell_type": "markdown",
   "metadata": {},
   "source": [
    "Seems to be broken - thus suggesting that Python is ok as the vehicle for building graphs.\n",
    "\n",
    "Unclear _when_ we would want to use tensorarrays but I figure it is for implementing certain call methods?"
   ]
  },
  {
   "cell_type": "code",
   "execution_count": 82,
   "metadata": {},
   "outputs": [],
   "source": [
    "N_loops = NLOOPS"
   ]
  },
  {
   "cell_type": "code",
   "execution_count": 83,
   "metadata": {},
   "outputs": [
    {
     "ename": "TypeError",
     "evalue": "in user code:\n\n    /tmp/ipykernel_367763/3522315067.py:20 gen_model  *\n        lst = lst.write(i, y)\n    /home/alexander/projects/deep_learning_vs_gbdt/venv/lib/python3.9/site-packages/tensorflow/python/util/tf_should_use.py:247 wrapped  **\n        return _add_should_use_warning(fn(*args, **kwargs),\n    /home/alexander/projects/deep_learning_vs_gbdt/venv/lib/python3.9/site-packages/tensorflow/python/ops/tensor_array_ops.py:1156 write\n        return self._implementation.write(index, value, name=name)\n    /home/alexander/projects/deep_learning_vs_gbdt/venv/lib/python3.9/site-packages/tensorflow/python/ops/tensor_array_ops.py:534 write\n        value = ops.convert_to_tensor(\n    /home/alexander/projects/deep_learning_vs_gbdt/venv/lib/python3.9/site-packages/tensorflow/python/profiler/trace.py:163 wrapped\n        return func(*args, **kwargs)\n    /home/alexander/projects/deep_learning_vs_gbdt/venv/lib/python3.9/site-packages/tensorflow/python/framework/ops.py:1566 convert_to_tensor\n        ret = conversion_func(value, dtype=dtype, name=name, as_ref=as_ref)\n    /home/alexander/projects/deep_learning_vs_gbdt/venv/lib/python3.9/site-packages/tensorflow/python/framework/constant_op.py:346 _constant_tensor_conversion_function\n        return constant(v, dtype=dtype, name=name)\n    /home/alexander/projects/deep_learning_vs_gbdt/venv/lib/python3.9/site-packages/tensorflow/python/framework/constant_op.py:271 constant\n        return _constant_impl(value, dtype, shape, name, verify_shape=False,\n    /home/alexander/projects/deep_learning_vs_gbdt/venv/lib/python3.9/site-packages/tensorflow/python/framework/constant_op.py:288 _constant_impl\n        tensor_util.make_tensor_proto(\n    /home/alexander/projects/deep_learning_vs_gbdt/venv/lib/python3.9/site-packages/tensorflow/python/framework/tensor_util.py:435 make_tensor_proto\n        values = np.asarray(values)\n    /home/alexander/projects/deep_learning_vs_gbdt/venv/lib/python3.9/site-packages/numpy/core/_asarray.py:83 asarray\n        return array(a, dtype, copy=False, order=order)\n    /home/alexander/projects/deep_learning_vs_gbdt/venv/lib/python3.9/site-packages/keras/engine/keras_tensor.py:244 __array__\n        raise TypeError(\n\n    TypeError: Cannot convert a symbolic Keras input/output to a numpy array. This error may indicate that you're trying to pass a symbolic value to a NumPy call, which is not supported. Or, you may be trying to pass Keras symbolic inputs/outputs to a TF API that does not register dispatching, preventing Keras from automatically converting the API call to a lambda layer in the Functional Model.\n",
     "output_type": "error",
     "traceback": [
      "\u001b[0;31m---------------------------------------------------------------------------\u001b[0m",
      "\u001b[0;31mTypeError\u001b[0m                                 Traceback (most recent call last)",
      "Cell \u001b[0;32mIn[83], line 25\u001b[0m\n\u001b[1;32m     23\u001b[0m     model \u001b[39m=\u001b[39m Model(_in, x)\n\u001b[1;32m     24\u001b[0m     \u001b[39mreturn\u001b[39;00m model\n\u001b[0;32m---> 25\u001b[0m model \u001b[39m=\u001b[39m gen_model()\n\u001b[1;32m     26\u001b[0m model\u001b[39m.\u001b[39mbuild((\u001b[39m3\u001b[39m,))\n\u001b[1;32m     28\u001b[0m model\u001b[39m.\u001b[39msummary()\n",
      "File \u001b[0;32m~/projects/deep_learning_vs_gbdt/venv/lib/python3.9/site-packages/tensorflow/python/eager/def_function.py:885\u001b[0m, in \u001b[0;36mFunction.__call__\u001b[0;34m(self, *args, **kwds)\u001b[0m\n\u001b[1;32m    882\u001b[0m compiler \u001b[39m=\u001b[39m \u001b[39m\"\u001b[39m\u001b[39mxla\u001b[39m\u001b[39m\"\u001b[39m \u001b[39mif\u001b[39;00m \u001b[39mself\u001b[39m\u001b[39m.\u001b[39m_jit_compile \u001b[39melse\u001b[39;00m \u001b[39m\"\u001b[39m\u001b[39mnonXla\u001b[39m\u001b[39m\"\u001b[39m\n\u001b[1;32m    884\u001b[0m \u001b[39mwith\u001b[39;00m OptionalXlaContext(\u001b[39mself\u001b[39m\u001b[39m.\u001b[39m_jit_compile):\n\u001b[0;32m--> 885\u001b[0m   result \u001b[39m=\u001b[39m \u001b[39mself\u001b[39;49m\u001b[39m.\u001b[39;49m_call(\u001b[39m*\u001b[39;49margs, \u001b[39m*\u001b[39;49m\u001b[39m*\u001b[39;49mkwds)\n\u001b[1;32m    887\u001b[0m new_tracing_count \u001b[39m=\u001b[39m \u001b[39mself\u001b[39m\u001b[39m.\u001b[39mexperimental_get_tracing_count()\n\u001b[1;32m    888\u001b[0m without_tracing \u001b[39m=\u001b[39m (tracing_count \u001b[39m==\u001b[39m new_tracing_count)\n",
      "File \u001b[0;32m~/projects/deep_learning_vs_gbdt/venv/lib/python3.9/site-packages/tensorflow/python/eager/def_function.py:933\u001b[0m, in \u001b[0;36mFunction._call\u001b[0;34m(self, *args, **kwds)\u001b[0m\n\u001b[1;32m    930\u001b[0m \u001b[39mtry\u001b[39;00m:\n\u001b[1;32m    931\u001b[0m   \u001b[39m# This is the first call of __call__, so we have to initialize.\u001b[39;00m\n\u001b[1;32m    932\u001b[0m   initializers \u001b[39m=\u001b[39m []\n\u001b[0;32m--> 933\u001b[0m   \u001b[39mself\u001b[39;49m\u001b[39m.\u001b[39;49m_initialize(args, kwds, add_initializers_to\u001b[39m=\u001b[39;49minitializers)\n\u001b[1;32m    934\u001b[0m \u001b[39mfinally\u001b[39;00m:\n\u001b[1;32m    935\u001b[0m   \u001b[39m# At this point we know that the initialization is complete (or less\u001b[39;00m\n\u001b[1;32m    936\u001b[0m   \u001b[39m# interestingly an exception was raised) so we no longer need a lock.\u001b[39;00m\n\u001b[1;32m    937\u001b[0m   \u001b[39mself\u001b[39m\u001b[39m.\u001b[39m_lock\u001b[39m.\u001b[39mrelease()\n",
      "File \u001b[0;32m~/projects/deep_learning_vs_gbdt/venv/lib/python3.9/site-packages/tensorflow/python/eager/def_function.py:759\u001b[0m, in \u001b[0;36mFunction._initialize\u001b[0;34m(self, args, kwds, add_initializers_to)\u001b[0m\n\u001b[1;32m    756\u001b[0m \u001b[39mself\u001b[39m\u001b[39m.\u001b[39m_lifted_initializer_graph \u001b[39m=\u001b[39m lifted_initializer_graph\n\u001b[1;32m    757\u001b[0m \u001b[39mself\u001b[39m\u001b[39m.\u001b[39m_graph_deleter \u001b[39m=\u001b[39m FunctionDeleter(\u001b[39mself\u001b[39m\u001b[39m.\u001b[39m_lifted_initializer_graph)\n\u001b[1;32m    758\u001b[0m \u001b[39mself\u001b[39m\u001b[39m.\u001b[39m_concrete_stateful_fn \u001b[39m=\u001b[39m (\n\u001b[0;32m--> 759\u001b[0m     \u001b[39mself\u001b[39;49m\u001b[39m.\u001b[39;49m_stateful_fn\u001b[39m.\u001b[39;49m_get_concrete_function_internal_garbage_collected(  \u001b[39m# pylint: disable=protected-access\u001b[39;49;00m\n\u001b[1;32m    760\u001b[0m         \u001b[39m*\u001b[39;49margs, \u001b[39m*\u001b[39;49m\u001b[39m*\u001b[39;49mkwds))\n\u001b[1;32m    762\u001b[0m \u001b[39mdef\u001b[39;00m \u001b[39minvalid_creator_scope\u001b[39m(\u001b[39m*\u001b[39munused_args, \u001b[39m*\u001b[39m\u001b[39m*\u001b[39munused_kwds):\n\u001b[1;32m    763\u001b[0m \u001b[39m  \u001b[39m\u001b[39m\"\"\"Disables variable creation.\"\"\"\u001b[39;00m\n",
      "File \u001b[0;32m~/projects/deep_learning_vs_gbdt/venv/lib/python3.9/site-packages/tensorflow/python/eager/function.py:3066\u001b[0m, in \u001b[0;36mFunction._get_concrete_function_internal_garbage_collected\u001b[0;34m(self, *args, **kwargs)\u001b[0m\n\u001b[1;32m   3064\u001b[0m   args, kwargs \u001b[39m=\u001b[39m \u001b[39mNone\u001b[39;00m, \u001b[39mNone\u001b[39;00m\n\u001b[1;32m   3065\u001b[0m \u001b[39mwith\u001b[39;00m \u001b[39mself\u001b[39m\u001b[39m.\u001b[39m_lock:\n\u001b[0;32m-> 3066\u001b[0m   graph_function, _ \u001b[39m=\u001b[39m \u001b[39mself\u001b[39;49m\u001b[39m.\u001b[39;49m_maybe_define_function(args, kwargs)\n\u001b[1;32m   3067\u001b[0m \u001b[39mreturn\u001b[39;00m graph_function\n",
      "File \u001b[0;32m~/projects/deep_learning_vs_gbdt/venv/lib/python3.9/site-packages/tensorflow/python/eager/function.py:3463\u001b[0m, in \u001b[0;36mFunction._maybe_define_function\u001b[0;34m(self, args, kwargs)\u001b[0m\n\u001b[1;32m   3459\u001b[0m   \u001b[39mreturn\u001b[39;00m \u001b[39mself\u001b[39m\u001b[39m.\u001b[39m_define_function_with_shape_relaxation(\n\u001b[1;32m   3460\u001b[0m       args, kwargs, flat_args, filtered_flat_args, cache_key_context)\n\u001b[1;32m   3462\u001b[0m \u001b[39mself\u001b[39m\u001b[39m.\u001b[39m_function_cache\u001b[39m.\u001b[39mmissed\u001b[39m.\u001b[39madd(call_context_key)\n\u001b[0;32m-> 3463\u001b[0m graph_function \u001b[39m=\u001b[39m \u001b[39mself\u001b[39;49m\u001b[39m.\u001b[39;49m_create_graph_function(args, kwargs)\n\u001b[1;32m   3464\u001b[0m \u001b[39mself\u001b[39m\u001b[39m.\u001b[39m_function_cache\u001b[39m.\u001b[39mprimary[cache_key] \u001b[39m=\u001b[39m graph_function\n\u001b[1;32m   3466\u001b[0m \u001b[39mreturn\u001b[39;00m graph_function, filtered_flat_args\n",
      "File \u001b[0;32m~/projects/deep_learning_vs_gbdt/venv/lib/python3.9/site-packages/tensorflow/python/eager/function.py:3298\u001b[0m, in \u001b[0;36mFunction._create_graph_function\u001b[0;34m(self, args, kwargs, override_flat_arg_shapes)\u001b[0m\n\u001b[1;32m   3293\u001b[0m missing_arg_names \u001b[39m=\u001b[39m [\n\u001b[1;32m   3294\u001b[0m     \u001b[39m\"\u001b[39m\u001b[39m%s\u001b[39;00m\u001b[39m_\u001b[39m\u001b[39m%d\u001b[39;00m\u001b[39m\"\u001b[39m \u001b[39m%\u001b[39m (arg, i) \u001b[39mfor\u001b[39;00m i, arg \u001b[39min\u001b[39;00m \u001b[39menumerate\u001b[39m(missing_arg_names)\n\u001b[1;32m   3295\u001b[0m ]\n\u001b[1;32m   3296\u001b[0m arg_names \u001b[39m=\u001b[39m base_arg_names \u001b[39m+\u001b[39m missing_arg_names\n\u001b[1;32m   3297\u001b[0m graph_function \u001b[39m=\u001b[39m ConcreteFunction(\n\u001b[0;32m-> 3298\u001b[0m     func_graph_module\u001b[39m.\u001b[39;49mfunc_graph_from_py_func(\n\u001b[1;32m   3299\u001b[0m         \u001b[39mself\u001b[39;49m\u001b[39m.\u001b[39;49m_name,\n\u001b[1;32m   3300\u001b[0m         \u001b[39mself\u001b[39;49m\u001b[39m.\u001b[39;49m_python_function,\n\u001b[1;32m   3301\u001b[0m         args,\n\u001b[1;32m   3302\u001b[0m         kwargs,\n\u001b[1;32m   3303\u001b[0m         \u001b[39mself\u001b[39;49m\u001b[39m.\u001b[39;49minput_signature,\n\u001b[1;32m   3304\u001b[0m         autograph\u001b[39m=\u001b[39;49m\u001b[39mself\u001b[39;49m\u001b[39m.\u001b[39;49m_autograph,\n\u001b[1;32m   3305\u001b[0m         autograph_options\u001b[39m=\u001b[39;49m\u001b[39mself\u001b[39;49m\u001b[39m.\u001b[39;49m_autograph_options,\n\u001b[1;32m   3306\u001b[0m         arg_names\u001b[39m=\u001b[39;49marg_names,\n\u001b[1;32m   3307\u001b[0m         override_flat_arg_shapes\u001b[39m=\u001b[39;49moverride_flat_arg_shapes,\n\u001b[1;32m   3308\u001b[0m         capture_by_value\u001b[39m=\u001b[39;49m\u001b[39mself\u001b[39;49m\u001b[39m.\u001b[39;49m_capture_by_value),\n\u001b[1;32m   3309\u001b[0m     \u001b[39mself\u001b[39m\u001b[39m.\u001b[39m_function_attributes,\n\u001b[1;32m   3310\u001b[0m     function_spec\u001b[39m=\u001b[39m\u001b[39mself\u001b[39m\u001b[39m.\u001b[39mfunction_spec,\n\u001b[1;32m   3311\u001b[0m     \u001b[39m# Tell the ConcreteFunction to clean up its graph once it goes out of\u001b[39;00m\n\u001b[1;32m   3312\u001b[0m     \u001b[39m# scope. This is not the default behavior since it gets used in some\u001b[39;00m\n\u001b[1;32m   3313\u001b[0m     \u001b[39m# places (like Keras) where the FuncGraph lives longer than the\u001b[39;00m\n\u001b[1;32m   3314\u001b[0m     \u001b[39m# ConcreteFunction.\u001b[39;00m\n\u001b[1;32m   3315\u001b[0m     shared_func_graph\u001b[39m=\u001b[39m\u001b[39mFalse\u001b[39;00m)\n\u001b[1;32m   3316\u001b[0m \u001b[39mreturn\u001b[39;00m graph_function\n",
      "File \u001b[0;32m~/projects/deep_learning_vs_gbdt/venv/lib/python3.9/site-packages/tensorflow/python/framework/func_graph.py:1007\u001b[0m, in \u001b[0;36mfunc_graph_from_py_func\u001b[0;34m(name, python_func, args, kwargs, signature, func_graph, autograph, autograph_options, add_control_dependencies, arg_names, op_return_value, collections, capture_by_value, override_flat_arg_shapes, acd_record_initial_resource_uses)\u001b[0m\n\u001b[1;32m   1004\u001b[0m \u001b[39melse\u001b[39;00m:\n\u001b[1;32m   1005\u001b[0m   _, original_func \u001b[39m=\u001b[39m tf_decorator\u001b[39m.\u001b[39munwrap(python_func)\n\u001b[0;32m-> 1007\u001b[0m func_outputs \u001b[39m=\u001b[39m python_func(\u001b[39m*\u001b[39;49mfunc_args, \u001b[39m*\u001b[39;49m\u001b[39m*\u001b[39;49mfunc_kwargs)\n\u001b[1;32m   1009\u001b[0m \u001b[39m# invariant: `func_outputs` contains only Tensors, CompositeTensors,\u001b[39;00m\n\u001b[1;32m   1010\u001b[0m \u001b[39m# TensorArrays and `None`s.\u001b[39;00m\n\u001b[1;32m   1011\u001b[0m func_outputs \u001b[39m=\u001b[39m nest\u001b[39m.\u001b[39mmap_structure(convert, func_outputs,\n\u001b[1;32m   1012\u001b[0m                                   expand_composites\u001b[39m=\u001b[39m\u001b[39mTrue\u001b[39;00m)\n",
      "File \u001b[0;32m~/projects/deep_learning_vs_gbdt/venv/lib/python3.9/site-packages/tensorflow/python/eager/def_function.py:668\u001b[0m, in \u001b[0;36mFunction._defun_with_scope.<locals>.wrapped_fn\u001b[0;34m(*args, **kwds)\u001b[0m\n\u001b[1;32m    664\u001b[0m \u001b[39mwith\u001b[39;00m default_graph\u001b[39m.\u001b[39m_variable_creator_scope(scope, priority\u001b[39m=\u001b[39m\u001b[39m50\u001b[39m):  \u001b[39m# pylint: disable=protected-access\u001b[39;00m\n\u001b[1;32m    665\u001b[0m   \u001b[39m# __wrapped__ allows AutoGraph to swap in a converted function. We give\u001b[39;00m\n\u001b[1;32m    666\u001b[0m   \u001b[39m# the function a weak reference to itself to avoid a reference cycle.\u001b[39;00m\n\u001b[1;32m    667\u001b[0m   \u001b[39mwith\u001b[39;00m OptionalXlaContext(compile_with_xla):\n\u001b[0;32m--> 668\u001b[0m     out \u001b[39m=\u001b[39m weak_wrapped_fn()\u001b[39m.\u001b[39;49m__wrapped__(\u001b[39m*\u001b[39;49margs, \u001b[39m*\u001b[39;49m\u001b[39m*\u001b[39;49mkwds)\n\u001b[1;32m    669\u001b[0m   \u001b[39mreturn\u001b[39;00m out\n",
      "File \u001b[0;32m~/projects/deep_learning_vs_gbdt/venv/lib/python3.9/site-packages/tensorflow/python/framework/func_graph.py:994\u001b[0m, in \u001b[0;36mfunc_graph_from_py_func.<locals>.wrapper\u001b[0;34m(*args, **kwargs)\u001b[0m\n\u001b[1;32m    992\u001b[0m \u001b[39mexcept\u001b[39;00m \u001b[39mException\u001b[39;00m \u001b[39mas\u001b[39;00m e:  \u001b[39m# pylint:disable=broad-except\u001b[39;00m\n\u001b[1;32m    993\u001b[0m   \u001b[39mif\u001b[39;00m \u001b[39mhasattr\u001b[39m(e, \u001b[39m\"\u001b[39m\u001b[39mag_error_metadata\u001b[39m\u001b[39m\"\u001b[39m):\n\u001b[0;32m--> 994\u001b[0m     \u001b[39mraise\u001b[39;00m e\u001b[39m.\u001b[39mag_error_metadata\u001b[39m.\u001b[39mto_exception(e)\n\u001b[1;32m    995\u001b[0m   \u001b[39melse\u001b[39;00m:\n\u001b[1;32m    996\u001b[0m     \u001b[39mraise\u001b[39;00m\n",
      "\u001b[0;31mTypeError\u001b[0m: in user code:\n\n    /tmp/ipykernel_367763/3522315067.py:20 gen_model  *\n        lst = lst.write(i, y)\n    /home/alexander/projects/deep_learning_vs_gbdt/venv/lib/python3.9/site-packages/tensorflow/python/util/tf_should_use.py:247 wrapped  **\n        return _add_should_use_warning(fn(*args, **kwargs),\n    /home/alexander/projects/deep_learning_vs_gbdt/venv/lib/python3.9/site-packages/tensorflow/python/ops/tensor_array_ops.py:1156 write\n        return self._implementation.write(index, value, name=name)\n    /home/alexander/projects/deep_learning_vs_gbdt/venv/lib/python3.9/site-packages/tensorflow/python/ops/tensor_array_ops.py:534 write\n        value = ops.convert_to_tensor(\n    /home/alexander/projects/deep_learning_vs_gbdt/venv/lib/python3.9/site-packages/tensorflow/python/profiler/trace.py:163 wrapped\n        return func(*args, **kwargs)\n    /home/alexander/projects/deep_learning_vs_gbdt/venv/lib/python3.9/site-packages/tensorflow/python/framework/ops.py:1566 convert_to_tensor\n        ret = conversion_func(value, dtype=dtype, name=name, as_ref=as_ref)\n    /home/alexander/projects/deep_learning_vs_gbdt/venv/lib/python3.9/site-packages/tensorflow/python/framework/constant_op.py:346 _constant_tensor_conversion_function\n        return constant(v, dtype=dtype, name=name)\n    /home/alexander/projects/deep_learning_vs_gbdt/venv/lib/python3.9/site-packages/tensorflow/python/framework/constant_op.py:271 constant\n        return _constant_impl(value, dtype, shape, name, verify_shape=False,\n    /home/alexander/projects/deep_learning_vs_gbdt/venv/lib/python3.9/site-packages/tensorflow/python/framework/constant_op.py:288 _constant_impl\n        tensor_util.make_tensor_proto(\n    /home/alexander/projects/deep_learning_vs_gbdt/venv/lib/python3.9/site-packages/tensorflow/python/framework/tensor_util.py:435 make_tensor_proto\n        values = np.asarray(values)\n    /home/alexander/projects/deep_learning_vs_gbdt/venv/lib/python3.9/site-packages/numpy/core/_asarray.py:83 asarray\n        return array(a, dtype, copy=False, order=order)\n    /home/alexander/projects/deep_learning_vs_gbdt/venv/lib/python3.9/site-packages/keras/engine/keras_tensor.py:244 __array__\n        raise TypeError(\n\n    TypeError: Cannot convert a symbolic Keras input/output to a numpy array. This error may indicate that you're trying to pass a symbolic value to a NumPy call, which is not supported. Or, you may be trying to pass Keras symbolic inputs/outputs to a TF API that does not register dispatching, preventing Keras from automatically converting the API call to a lambda layer in the Functional Model.\n"
     ]
    }
   ],
   "source": [
    "tf.random.set_seed(1)\n",
    "\n",
    "@tf.function\n",
    "def gen_model():\n",
    "    _in = Input((5,), name=\"vanilla_list_static\")\n",
    "    x = _in\n",
    "    lst = tf.TensorArray(_in.dtype, N_loops, \n",
    "                        dynamic_size=False, \n",
    "                        clear_after_read=False, \n",
    "                        tensor_array_name=\"lst\", \n",
    "                        element_shape=tf.TensorShape((3,))\n",
    "                        )\n",
    "    max_j = 0\n",
    "    # static looping\n",
    "    for i in range(N_loops):\n",
    "        y = Dense(2, name=f\"{i}\")(x)\n",
    "        for j in range(max_j):\n",
    "            y = tf.keras.layers.Add(name=f\"add_{i}_{j}\")([y, lst.read(j)])\n",
    "            # y = tf.math.add(y,z,name=f\"add_{i}_{j}\")\n",
    "        lst = lst.write(i, y)\n",
    "        x = y\n",
    "        max_j += 1\n",
    "    model = Model(_in, x)\n",
    "    return model\n",
    "model = gen_model()\n",
    "model.build((3,))\n",
    "\n",
    "model.summary()\n",
    "# tf.keras.utils.plot_model(model, expand_nested=True)"
   ]
  },
  {
   "cell_type": "code",
   "execution_count": 101,
   "metadata": {},
   "outputs": [],
   "source": [
    "class TensorArrayModel(Model):\n",
    "    def __init__(self, N_loops, *args, **kwargs):\n",
    "        super().__init__(*args, **kwargs)\n",
    "        self.dense_layers = [Dense(2, name=f\"{i}\") for i in range(N_loops)]\n",
    "        self.n_loops = N_loops\n",
    "    \n",
    "    @tf.function\n",
    "    def call(self, inputs, training=None, mask=None):\n",
    "        units = 2\n",
    "        lst = tf.TensorArray(_in.dtype, self.n_loops, \n",
    "                            dynamic_size=False, \n",
    "                            clear_after_read=False, \n",
    "                            tensor_array_name=\"lst\", \n",
    "                            element_shape=tf.TensorShape((None,units))\n",
    "                            )\n",
    "        max_j = 0\n",
    "        x = inputs\n",
    "        # static looping\n",
    "        for i in range(N_loops):\n",
    "            y = self.dense_layers[i](x)\n",
    "            for j in range(max_j):\n",
    "                y = tf.keras.layers.Add(name=f\"add_{i}_{j}\")([y, lst.read(j)])\n",
    "                # y = tf.math.add(y,z,name=f\"add_{i}_{j}\")\n",
    "            lst = lst.write(i, y)\n",
    "            x = y\n",
    "            max_j += 1\n",
    "        # lst.marked_used()\n",
    "        return x\n",
    "\n",
    "tf.random.set_seed(1)\n",
    "model = TensorArrayModel(N_loops=NLOOPS)"
   ]
  },
  {
   "cell_type": "code",
   "execution_count": 102,
   "metadata": {},
   "outputs": [
    {
     "name": "stdout",
     "output_type": "stream",
     "text": [
      "777 µs ± 216 µs per loop (mean ± std. dev. of 20 runs, 1 loop each)\n"
     ]
    }
   ],
   "source": [
    "%%timeit -r 20\n",
    "model(tf.ones((1,5)))"
   ]
  },
  {
   "attachments": {},
   "cell_type": "markdown",
   "metadata": {},
   "source": [
    "# Static Looping - tensorarray"
   ]
  },
  {
   "cell_type": "code",
   "execution_count": null,
   "metadata": {},
   "outputs": [],
   "source": []
  },
  {
   "attachments": {},
   "cell_type": "markdown",
   "metadata": {},
   "source": [
    "# Dynamic Looping - tensorarray"
   ]
  },
  {
   "cell_type": "code",
   "execution_count": null,
   "metadata": {},
   "outputs": [],
   "source": []
  },
  {
   "attachments": {},
   "cell_type": "markdown",
   "metadata": {},
   "source": []
  }
 ],
 "metadata": {
  "kernelspec": {
   "display_name": "tabnet",
   "language": "python",
   "name": "tabnet"
  },
  "language_info": {
   "codemirror_mode": {
    "name": "ipython",
    "version": 3
   },
   "file_extension": ".py",
   "mimetype": "text/x-python",
   "name": "python",
   "nbconvert_exporter": "python",
   "pygments_lexer": "ipython3",
   "version": "3.9.16"
  },
  "orig_nbformat": 4
 },
 "nbformat": 4,
 "nbformat_minor": 2
}
