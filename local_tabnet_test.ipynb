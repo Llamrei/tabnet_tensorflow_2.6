{
 "cells": [
  {
   "cell_type": "code",
   "execution_count": 1,
   "metadata": {},
   "outputs": [],
   "source": [
    "import tensorflow as tf\n",
    "\n",
    "from local_tabnet import TabNet as LocalTabNet\n",
    "from google_tabnet import TabNet as GoogleTabNet"
   ]
  },
  {
   "cell_type": "code",
   "execution_count": 2,
   "metadata": {},
   "outputs": [],
   "source": [
    "%load_ext autoreload"
   ]
  },
  {
   "cell_type": "code",
   "execution_count": 3,
   "metadata": {},
   "outputs": [
    {
     "name": "stderr",
     "output_type": "stream",
     "text": [
      "2023-06-06 14:23:07.883732: E tensorflow/stream_executor/cuda/cuda_driver.cc:271] failed call to cuInit: CUDA_ERROR_NO_DEVICE: no CUDA-capable device is detected\n",
      "2023-06-06 14:23:07.883790: I tensorflow/stream_executor/cuda/cuda_diagnostics.cc:156] kernel driver does not appear to be running on this host (al3615): /proc/driver/nvidia/version does not exist\n",
      "2023-06-06 14:23:07.884260: I tensorflow/core/platform/cpu_feature_guard.cc:142] This TensorFlow binary is optimized with oneAPI Deep Neural Network Library (oneDNN) to use the following CPU instructions in performance-critical operations:  AVX2 FMA\n",
      "To enable them in other operations, rebuild TensorFlow with the appropriate compiler flags.\n"
     ]
    }
   ],
   "source": [
    "%autoreload 2\n",
    "FEAT_DIM = 5\n",
    "ATTN_DIM = 2\n",
    "OUTPUT_DIM = 1\n",
    "OUTPUT_ACTIVATION = None\n",
    "\n",
    "tf.random.set_seed(1)\n",
    "model = LocalTabNet(\n",
    "    FEAT_DIM,\n",
    "    ATTN_DIM,\n",
    "    OUTPUT_DIM,\n",
    "    OUTPUT_ACTIVATION,\n",
    "    sparsity=1\n",
    ")"
   ]
  },
  {
   "cell_type": "code",
   "execution_count": 7,
   "metadata": {},
   "outputs": [
    {
     "data": {
      "text/plain": [
       "array([[-0.1533266]], dtype=float32)"
      ]
     },
     "execution_count": 7,
     "metadata": {},
     "output_type": "execute_result"
    }
   ],
   "source": [
    "dummy_in = tf.ones((1, FEAT_DIM), dtype=\"float\")\n",
    "model.compile(\n",
    "    optimizer=\"adam\",\n",
    "    loss=\"mse\",\n",
    "    metrics=[\"mae\", \"mse\"]\n",
    ")\n",
    "model.predict(dummy_in)"
   ]
  },
  {
   "cell_type": "code",
   "execution_count": 8,
   "metadata": {},
   "outputs": [
    {
     "data": {
      "text/plain": [
       "['mask_entropy']"
      ]
     },
     "execution_count": 8,
     "metadata": {},
     "output_type": "execute_result"
    }
   ],
   "source": [
    "model.metrics_names"
   ]
  },
  {
   "attachments": {},
   "cell_type": "markdown",
   "metadata": {},
   "source": [
    "# Run a step of fit and validate"
   ]
  },
  {
   "cell_type": "code",
   "execution_count": 9,
   "metadata": {},
   "outputs": [
    {
     "name": "stdout",
     "output_type": "stream",
     "text": [
      "1/1 [==============================] - 10s 10s/step - loss: 2.6074 - mae: 0.9990 - mse: 0.9980 - mask_entropy: 1.6094 - val_loss: 2.9764 - val_mae: 1.1874 - val_mse: 1.4100 - val_mask_entropy: 1.5664\n"
     ]
    },
    {
     "data": {
      "text/plain": [
       "['loss', 'mae', 'mse', 'mask_entropy']"
      ]
     },
     "execution_count": 9,
     "metadata": {},
     "output_type": "execute_result"
    }
   ],
   "source": [
    "dummy_dataset = tf.data.Dataset.from_tensor_slices(\n",
    "    (\n",
    "        tf.ones((1, FEAT_DIM), dtype=\"float\"),\n",
    "        tf.ones((1, OUTPUT_DIM), dtype=\"float\")\n",
    "    )\n",
    ").batch(1)\n",
    "model.fit(\n",
    "    dummy_dataset,\n",
    "    epochs=1,\n",
    "    batch_size=1,\n",
    "    verbose=1,\n",
    "    validation_data=dummy_dataset,\n",
    "    validation_freq=1,\n",
    ")\n",
    "\n",
    "model.metrics_names"
   ]
  },
  {
   "cell_type": "code",
   "execution_count": null,
   "metadata": {},
   "outputs": [],
   "source": []
  },
  {
   "attachments": {},
   "cell_type": "markdown",
   "metadata": {},
   "source": [
    "# Compare to google implementation\n",
    "Currently not working"
   ]
  },
  {
   "cell_type": "code",
   "execution_count": null,
   "metadata": {},
   "outputs": [],
   "source": [
    "%autoreload 2\n",
    "tf.random.set_seed(1)\n",
    "model = GoogleTabNet(\n",
    "    columns=[tf.feature_column.numeric_column(str(ci)) for ci in range(FEAT_DIM)],\n",
    "    num_features=FEAT_DIM,\n",
    "    feature_dim=ATTN_DIM,\n",
    "    output_dim=ATTN_DIM,\n",
    "    num_decision_steps=5,\n",
    "    relaxation_factor=1.5,\n",
    "    batch_momentum=0.95,\n",
    "    virtual_batch_size=None,\n",
    "    num_classes=OUTPUT_DIM\n",
    ")\n",
    "decision, total_entropy = model.encoder(dummy_in, reuse=False, is_training=False)\n",
    "out = model.regress(decision, reuse=False)"
   ]
  },
  {
   "cell_type": "code",
   "execution_count": null,
   "metadata": {},
   "outputs": [],
   "source": []
  }
 ],
 "metadata": {
  "kernelspec": {
   "display_name": "tabnet",
   "language": "python",
   "name": "tabnet"
  },
  "language_info": {
   "codemirror_mode": {
    "name": "ipython",
    "version": 3
   },
   "file_extension": ".py",
   "mimetype": "text/x-python",
   "name": "python",
   "nbconvert_exporter": "python",
   "pygments_lexer": "ipython3",
   "version": "3.9.16"
  },
  "orig_nbformat": 4
 },
 "nbformat": 4,
 "nbformat_minor": 2
}
