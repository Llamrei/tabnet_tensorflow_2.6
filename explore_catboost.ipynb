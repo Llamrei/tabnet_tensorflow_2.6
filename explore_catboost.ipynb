{
 "cells": [
  {
   "cell_type": "code",
   "execution_count": 1,
   "metadata": {},
   "outputs": [
    {
     "name": "stdout",
     "output_type": "stream",
     "text": [
      "[1.0, 1.0, 1.0, 1.0]\n",
      "[10 10 10 30]\n",
      "None\n",
      "[1.0, 1.0, 1.0, 1.0]\n",
      "[10 10 10 30]\n",
      "{0: [1.5, 3.0, 17.0], 1: [4.5, 22.5], 2: [5.5, 28.0], 3: [6.5, 7.5, 34.0]}\n"
     ]
    },
    {
     "data": {
      "text/plain": [
       "['__class__',\n",
       " '__delattr__',\n",
       " '__dir__',\n",
       " '__doc__',\n",
       " '__eq__',\n",
       " '__format__',\n",
       " '__ge__',\n",
       " '__getattribute__',\n",
       " '__gt__',\n",
       " '__hash__',\n",
       " '__init__',\n",
       " '__init_subclass__',\n",
       " '__le__',\n",
       " '__lt__',\n",
       " '__ne__',\n",
       " '__new__',\n",
       " '__pyx_vtable__',\n",
       " '__reduce__',\n",
       " '__reduce_ex__',\n",
       " '__repr__',\n",
       " '__setattr__',\n",
       " '__setstate__',\n",
       " '__sizeof__',\n",
       " '__str__',\n",
       " '__subclasshook__',\n",
       " '_base_calc_leaf_indexes',\n",
       " '_base_drop_unused_features',\n",
       " '_base_eval_metrics',\n",
       " '_base_predict',\n",
       " '_base_shrink',\n",
       " '_base_virtual_ensembles_predict',\n",
       " '_calc_cat_feature_perfect_hash',\n",
       " '_calc_fstr',\n",
       " '_calc_ostr',\n",
       " '_calc_partial_dependence',\n",
       " '_check_model_and_dataset_compatibility',\n",
       " '_clear_test_evals',\n",
       " '_convert_oblivious_to_asymmetric',\n",
       " '_deserialize_model',\n",
       " '_get_best_iteration',\n",
       " '_get_best_score',\n",
       " '_get_binarized_statistics',\n",
       " '_get_binclass_probability_threshold',\n",
       " '_get_borders',\n",
       " '_get_cat_feature_indices',\n",
       " '_get_cat_feature_values',\n",
       " '_get_class_labels',\n",
       " '_get_embedding_feature_indices',\n",
       " '_get_feature_names',\n",
       " '_get_feature_type_and_internal_index',\n",
       " '_get_float_feature_indices',\n",
       " '_get_leaf_values',\n",
       " '_get_leaf_weights',\n",
       " '_get_learning_rate',\n",
       " '_get_loss_function_name',\n",
       " '_get_metadata_wrapper',\n",
       " '_get_metrics_evals',\n",
       " '_get_n_features_in',\n",
       " '_get_nan_treatments',\n",
       " '_get_params',\n",
       " '_get_plain_params',\n",
       " '_get_random_seed',\n",
       " '_get_scale_and_bias',\n",
       " '_get_test_evals',\n",
       " '_get_text_feature_indices',\n",
       " '_get_tree_count',\n",
       " '_get_tree_leaf_counts',\n",
       " '_get_tree_leaf_values',\n",
       " '_get_tree_node_to_leaf',\n",
       " '_get_tree_splits',\n",
       " '_get_tree_step_nodes',\n",
       " '_has_leaf_weights_in_model',\n",
       " '_is_oblivious',\n",
       " '_leaf_indexes_iterator',\n",
       " '_load_from_stream',\n",
       " '_load_model',\n",
       " '_reserve_test_evals',\n",
       " '_save_borders',\n",
       " '_save_model',\n",
       " '_select_features',\n",
       " '_serialize_model',\n",
       " '_set_feature_names',\n",
       " '_set_leaf_values',\n",
       " '_set_scale_and_bias',\n",
       " '_set_test_evals',\n",
       " '_staged_predict_iterator',\n",
       " '_sum_models',\n",
       " '_train',\n",
       " '_tune_hyperparams']"
      ]
     },
     "execution_count": 1,
     "metadata": {},
     "output_type": "execute_result"
    }
   ],
   "source": [
    "from catboost import CatBoostRegressor\n",
    "\n",
    "train_data = [[1, 4, 5, 6],\n",
    "              [4, 5, 6, 7],\n",
    "              [30, 40, 50, 60],\n",
    "              [2, 4, 6, 8]\n",
    "            ]\n",
    "\n",
    "eval_data = [[2, 4, 6, 8],\n",
    "             [1, 4, 50, 60]]\n",
    "\n",
    "train_labels = [10, 10, 10, 30]\n",
    "\n",
    "model = CatBoostRegressor()\n",
    "\n",
    "model.fit(train_data,\n",
    "          train_labels,\n",
    "          verbose=False)\n",
    "\n",
    "print(model.get_borders())\n",
    "dir(model._object)"
   ]
  },
  {
   "cell_type": "code",
   "execution_count": 2,
   "metadata": {},
   "outputs": [
    {
     "data": {
      "text/plain": [
       "0.5"
      ]
     },
     "execution_count": 2,
     "metadata": {},
     "output_type": "execute_result"
    }
   ],
   "source": [
    "model._object._get_binclass_probability_threshold()"
   ]
  },
  {
   "cell_type": "code",
   "execution_count": null,
   "metadata": {},
   "outputs": [],
   "source": []
  }
 ],
 "metadata": {
  "kernelspec": {
   "display_name": "tabnet",
   "language": "python",
   "name": "tabnet"
  },
  "language_info": {
   "codemirror_mode": {
    "name": "ipython",
    "version": 3
   },
   "file_extension": ".py",
   "mimetype": "text/x-python",
   "name": "python",
   "nbconvert_exporter": "python",
   "pygments_lexer": "ipython3",
   "version": "3.9.16"
  },
  "orig_nbformat": 4
 },
 "nbformat": 4,
 "nbformat_minor": 2
}
